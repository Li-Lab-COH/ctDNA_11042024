{
 "cells": [
  {
   "cell_type": "code",
   "execution_count": 8,
   "id": "737bd544-bd0a-4a24-8173-20115719a932",
   "metadata": {},
   "outputs": [],
   "source": [
    "import os\n",
    "import sys\n",
    "import pysam"
   ]
  },
  {
   "cell_type": "code",
   "execution_count": 3,
   "id": "e17ed684-64e6-490b-bca9-a5e9835b721e",
   "metadata": {},
   "outputs": [],
   "source": [
    "# Inputs\n",
    "\n",
    "anumbers = [\"A14891\", \"A14892\"]\n",
    "input_bam_path = \"/Users/janzules/Roselab/ctDNA_11042024/data/testing_binned_analysis/mapped_bam_subset\"\n",
    "output_dir = \"/Users/janzules/Roselab/ctDNA_11042024/data/testing_binned_analysis/binned_sequences\"\n",
    "bins=[(40, 150), (125, 155), (150, 180), (170, 220), (220, 345)]"
   ]
  },
  {
   "cell_type": "code",
   "execution_count": 5,
   "id": "8fa8fd88-8d3b-4444-a202-6ae8f5367f9f",
   "metadata": {},
   "outputs": [
    {
     "name": "stdout",
     "output_type": "stream",
     "text": [
      "A14891\n",
      "A14892\n"
     ]
    }
   ],
   "source": [
    "for anumber in anumbers:\n",
    "    print(anumber)"
   ]
  },
  {
   "cell_type": "code",
   "execution_count": 9,
   "id": "a0a89761-4687-4fc4-8690-ce992a547524",
   "metadata": {},
   "outputs": [
    {
     "ename": "NameError",
     "evalue": "name 'in_bam' is not defined",
     "output_type": "error",
     "traceback": [
      "\u001b[0;31m---------------------------------------------------------------------------\u001b[0m",
      "\u001b[0;31mNameError\u001b[0m                                 Traceback (most recent call last)",
      "Cell \u001b[0;32mIn[9], line 5\u001b[0m\n\u001b[1;32m      3\u001b[0m bin_label \u001b[38;5;241m=\u001b[39m \u001b[38;5;124mf\u001b[39m\u001b[38;5;124m\"\u001b[39m\u001b[38;5;132;01m{\u001b[39;00mb_start\u001b[38;5;132;01m}\u001b[39;00m\u001b[38;5;124m_\u001b[39m\u001b[38;5;132;01m{\u001b[39;00mb_end\u001b[38;5;132;01m}\u001b[39;00m\u001b[38;5;124m\"\u001b[39m\n\u001b[1;32m      4\u001b[0m out_path \u001b[38;5;241m=\u001b[39m os\u001b[38;5;241m.\u001b[39mpath\u001b[38;5;241m.\u001b[39mjoin(output_dir, \u001b[38;5;124mf\u001b[39m\u001b[38;5;124m\"\u001b[39m\u001b[38;5;132;01m{\u001b[39;00mos\u001b[38;5;241m.\u001b[39mpath\u001b[38;5;241m.\u001b[39mbasename(input_bam_path)\u001b[38;5;241m.\u001b[39mreplace(\u001b[38;5;124m'\u001b[39m\u001b[38;5;124m.bam\u001b[39m\u001b[38;5;124m'\u001b[39m,\u001b[38;5;250m \u001b[39m\u001b[38;5;124m'\u001b[39m\u001b[38;5;124m'\u001b[39m)\u001b[38;5;132;01m}\u001b[39;00m\u001b[38;5;124m_\u001b[39m\u001b[38;5;132;01m{\u001b[39;00mbin_label\u001b[38;5;132;01m}\u001b[39;00m\u001b[38;5;124m.bam\u001b[39m\u001b[38;5;124m\"\u001b[39m)\n\u001b[0;32m----> 5\u001b[0m out_bams[(b_start, b_end)] \u001b[38;5;241m=\u001b[39m pysam\u001b[38;5;241m.\u001b[39mAlignmentFile(out_path, \u001b[38;5;124m\"\u001b[39m\u001b[38;5;124mwb\u001b[39m\u001b[38;5;124m\"\u001b[39m, template\u001b[38;5;241m=\u001b[39min_bam)\n",
      "\u001b[0;31mNameError\u001b[0m: name 'in_bam' is not defined"
     ]
    }
   ],
   "source": [
    "out_bams = {}\n",
    "for b_start, b_end in bins:\n",
    "    bin_label = f\"{b_start}_{b_end}\"\n",
    "    out_path = os.path.join(output_dir, f\"{os.path.basename(input_bam_path).replace('.bam', '')}_{bin_label}.bam\")\n",
    "    out_bams[(b_start, b_end)] = pysam.AlignmentFile(out_path, \"wb\", template=in_bam)"
   ]
  },
  {
   "cell_type": "code",
   "execution_count": null,
   "id": "c4a3de64-00af-4626-b24a-5b7dcd1358fe",
   "metadata": {},
   "outputs": [],
   "source": [
    "for b_start, b_end in bins:\n",
    "    # Check and create the appropriate folder\n",
    "    for anumber in anumbers\n",
    "    \n",
    "    #extract the sequences"
   ]
  }
 ],
 "metadata": {
  "kernelspec": {
   "display_name": "Python 3 (ipykernel)",
   "language": "python",
   "name": "python3"
  },
  "language_info": {
   "codemirror_mode": {
    "name": "ipython",
    "version": 3
   },
   "file_extension": ".py",
   "mimetype": "text/x-python",
   "name": "python",
   "nbconvert_exporter": "python",
   "pygments_lexer": "ipython3",
   "version": "3.12.2"
  }
 },
 "nbformat": 4,
 "nbformat_minor": 5
}
