{
 "cells": [
  {
   "cell_type": "code",
   "execution_count": 52,
   "id": "737bd544-bd0a-4a24-8173-20115719a932",
   "metadata": {},
   "outputs": [],
   "source": [
    "import os\n",
    "import sys\n",
    "import glob\n",
    "import pysam\n",
    "import pandas as pd\n",
    "from datetime import datetime"
   ]
  },
  {
   "cell_type": "code",
   "execution_count": 28,
   "id": "2103e60b-196b-4cc2-8a33-135b185d665e",
   "metadata": {},
   "outputs": [],
   "source": [
    "anumbers = [\"A14891\", \"A14892\"]"
   ]
  },
  {
   "cell_type": "code",
   "execution_count": null,
   "id": "2a2a37fa-04a1-4af3-b40f-3f7a421d1266",
   "metadata": {},
   "outputs": [],
   "source": [
    "# Inputs\n",
    "\n",
    "anumbers = [\"A14891\", \"A14892\", \"A14893\"]\n",
    "input_dir = \"/Users/janzules/Roselab/ctDNA_11042024/data/testing_binned_analysis/mapped_bam_subset\"\n",
    "output_dir = \"/Users/janzules/Roselab/ctDNA_11042024/data/testing_binned_analysis/binned_sequences\""
   ]
  },
  {
   "cell_type": "code",
   "execution_count": null,
   "id": "9a97e7a2-9bb5-4f7d-b0e8-c25343340b5a",
   "metadata": {},
   "outputs": [],
   "source": [
    "bins=[(40, 150), (125, 155), (150, 180), (170, 220), (220, 345)]"
   ]
  },
  {
   "cell_type": "code",
   "execution_count": 5,
   "id": "8fa8fd88-8d3b-4444-a202-6ae8f5367f9f",
   "metadata": {},
   "outputs": [
    {
     "name": "stdout",
     "output_type": "stream",
     "text": [
      "A14891\n",
      "A14892\n"
     ]
    }
   ],
   "source": [
    "for anumber in anumbers:\n",
    "    print(anumber)"
   ]
  },
  {
   "cell_type": "code",
   "execution_count": 9,
   "id": "a0a89761-4687-4fc4-8690-ce992a547524",
   "metadata": {},
   "outputs": [
    {
     "ename": "NameError",
     "evalue": "name 'in_bam' is not defined",
     "output_type": "error",
     "traceback": [
      "\u001b[0;31m---------------------------------------------------------------------------\u001b[0m",
      "\u001b[0;31mNameError\u001b[0m                                 Traceback (most recent call last)",
      "Cell \u001b[0;32mIn[9], line 5\u001b[0m\n\u001b[1;32m      3\u001b[0m bin_label \u001b[38;5;241m=\u001b[39m \u001b[38;5;124mf\u001b[39m\u001b[38;5;124m\"\u001b[39m\u001b[38;5;132;01m{\u001b[39;00mb_start\u001b[38;5;132;01m}\u001b[39;00m\u001b[38;5;124m_\u001b[39m\u001b[38;5;132;01m{\u001b[39;00mb_end\u001b[38;5;132;01m}\u001b[39;00m\u001b[38;5;124m\"\u001b[39m\n\u001b[1;32m      4\u001b[0m out_path \u001b[38;5;241m=\u001b[39m os\u001b[38;5;241m.\u001b[39mpath\u001b[38;5;241m.\u001b[39mjoin(output_dir, \u001b[38;5;124mf\u001b[39m\u001b[38;5;124m\"\u001b[39m\u001b[38;5;132;01m{\u001b[39;00mos\u001b[38;5;241m.\u001b[39mpath\u001b[38;5;241m.\u001b[39mbasename(input_bam_path)\u001b[38;5;241m.\u001b[39mreplace(\u001b[38;5;124m'\u001b[39m\u001b[38;5;124m.bam\u001b[39m\u001b[38;5;124m'\u001b[39m,\u001b[38;5;250m \u001b[39m\u001b[38;5;124m'\u001b[39m\u001b[38;5;124m'\u001b[39m)\u001b[38;5;132;01m}\u001b[39;00m\u001b[38;5;124m_\u001b[39m\u001b[38;5;132;01m{\u001b[39;00mbin_label\u001b[38;5;132;01m}\u001b[39;00m\u001b[38;5;124m.bam\u001b[39m\u001b[38;5;124m\"\u001b[39m)\n\u001b[0;32m----> 5\u001b[0m out_bams[(b_start, b_end)] \u001b[38;5;241m=\u001b[39m pysam\u001b[38;5;241m.\u001b[39mAlignmentFile(out_path, \u001b[38;5;124m\"\u001b[39m\u001b[38;5;124mwb\u001b[39m\u001b[38;5;124m\"\u001b[39m, template\u001b[38;5;241m=\u001b[39min_bam)\n",
      "\u001b[0;31mNameError\u001b[0m: name 'in_bam' is not defined"
     ]
    }
   ],
   "source": [
    "out_bams = {}\n",
    "for b_start, b_end in bins:\n",
    "    bin_label = f\"{b_start}_{b_end}\"\n",
    "    out_path = os.path.join(output_dir, f\"{os.path.basename(input_bam_path).replace('.bam', '')}_{bin_label}.bam\")\n",
    "    out_bams[(b_start, b_end)] = pysam.AlignmentFile(out_path, \"wb\", template=in_bam)"
   ]
  },
  {
   "cell_type": "code",
   "execution_count": null,
   "id": "c4a3de64-00af-4626-b24a-5b7dcd1358fe",
   "metadata": {},
   "outputs": [],
   "source": [
    "for b_start, b_end in bins:\n",
    "    # Check and create the appropriate folder\n",
    "    for anumber in anumbers\n",
    "    \n",
    "    #extract the sequences"
   ]
  },
  {
   "cell_type": "code",
   "execution_count": 12,
   "id": "7cf33a94-3100-4f2d-83bd-5707dd4c964d",
   "metadata": {},
   "outputs": [],
   "source": [
    "for (b_start, b_end) in bins:\n",
    "    bin_label = f\"{b_start}_{b_end}\"\n",
    "    bin_dir = os.path.join(output_dir, bin_label)\n",
    "    bam_dir = os.path.join(bin_dir, \"bam\")\n",
    "    os.makedirs(bam_dir, exist_ok=True)"
   ]
  },
  {
   "cell_type": "code",
   "execution_count": 29,
   "id": "1b4859de-65b4-40f7-a022-d931526fa145",
   "metadata": {
    "scrolled": true
   },
   "outputs": [
    {
     "name": "stdout",
     "output_type": "stream",
     "text": [
      "['/Users/janzules/Roselab/ctDNA_11042024/data/testing_binned_analysis/mapped_bam_subset/A14891_subset.bam']\n",
      "['/Users/janzules/Roselab/ctDNA_11042024/data/testing_binned_analysis/mapped_bam_subset/A14892_subset.bam']\n"
     ]
    }
   ],
   "source": [
    "for anumber in anumbers:\n",
    "    # 1) Find the matching BAM file. Adjust the filename patterns below to match your data.\n",
    "    #    You may have .mapped.bam, _subset.bam, etc.\n",
    "    pattern = os.path.join(input_dir, f\"{anumber}*.bam\")  # This is now a string, not a tuple\n",
    "\n",
    "    matching_files = glob.glob(pattern)  # Directly use glob.glob() without a loop\n",
    "    \n",
    "    if len(matching_files) != 1:\n",
    "        print(f\"[WARNING] Expected 1 BAM file for {anumber}, but found {len(matching_files)} in {input_dir}\", file=sys.stderr)\n",
    "        continue  # Skip this A-number if there are 0 or more than 1 matching files\n",
    "\n",
    "    else:\n",
    "        print(matching_files)"
   ]
  },
  {
   "cell_type": "code",
   "execution_count": 30,
   "id": "9aacc2c0-0f93-439e-9eb6-25a8c012eeee",
   "metadata": {},
   "outputs": [
    {
     "data": {
      "text/plain": [
       "['/Users/janzules/Roselab/ctDNA_11042024/data/testing_binned_analysis/mapped_bam_subset/A14892_subset.bam']"
      ]
     },
     "execution_count": 30,
     "metadata": {},
     "output_type": "execute_result"
    }
   ],
   "source": [
    "matching_files"
   ]
  },
  {
   "cell_type": "code",
   "execution_count": 36,
   "id": "012d6a4e-7201-4996-be4f-8be10f9e083a",
   "metadata": {},
   "outputs": [],
   "source": [
    "for anumber in anumbers:\n",
    "    # Find the matching BAM file.\n",
    "\n",
    "    # String to find match\n",
    "    pattern = os.path.join(input_dir, f\"{anumber}*.bam\")\n",
    "    # searches for files matching a specific pattern in a directory and returns a list of matching file paths.\n",
    "    input_bam_path = glob.glob(pattern)\n",
    "\n",
    "    if len(input_bam_path) != 1:\n",
    "        print(f\"[WARNING] Expected 1 BAM file for {anumber}, but found {len(input_bam_path)} in {input_dir}\",\n",
    "              file=sys.stderr)\n",
    "        continue  # Skip this A-number if there are 0 or more than 1 matching files\n",
    "    input_bam_path = input_bam_path[0]"
   ]
  },
  {
   "cell_type": "code",
   "execution_count": 32,
   "id": "e9597798-aee8-4926-9da1-b1f270d3a8b9",
   "metadata": {
    "scrolled": true
   },
   "outputs": [
    {
     "data": {
      "text/plain": [
       "['/Users/janzules/Roselab/ctDNA_11042024/data/testing_binned_analysis/mapped_bam_subset/A14892_subset.bam']"
      ]
     },
     "execution_count": 32,
     "metadata": {},
     "output_type": "execute_result"
    }
   ],
   "source": [
    "input_bam_path"
   ]
  },
  {
   "cell_type": "code",
   "execution_count": 38,
   "id": "5a820b47-bdc0-404f-b809-cde5099f9fbb",
   "metadata": {},
   "outputs": [],
   "source": [
    " in_bam = pysam.AlignmentFile(input_bam_path, \"rb\")"
   ]
  },
  {
   "cell_type": "code",
   "execution_count": 40,
   "id": "db6d48a3-ca68-49d5-98c9-43421e9a79a0",
   "metadata": {
    "scrolled": true
   },
   "outputs": [
    {
     "ename": "ValueError",
     "evalue": "fetch called on bamfile without index",
     "output_type": "error",
     "traceback": [
      "\u001b[0;31m---------------------------------------------------------------------------\u001b[0m",
      "\u001b[0;31mValueError\u001b[0m                                Traceback (most recent call last)",
      "Cell \u001b[0;32mIn[40], line 1\u001b[0m\n\u001b[0;32m----> 1\u001b[0m num_reads \u001b[38;5;241m=\u001b[39m in_bam\u001b[38;5;241m.\u001b[39mcount()\n",
      "File \u001b[0;32m~/anaconda3/lib/python3.12/site-packages/pysam/libcalignmentfile.pyx:1435\u001b[0m, in \u001b[0;36mpysam.libcalignmentfile.AlignmentFile.count\u001b[0;34m()\u001b[0m\n",
      "File \u001b[0;32m~/anaconda3/lib/python3.12/site-packages/pysam/libcalignmentfile.pyx:1103\u001b[0m, in \u001b[0;36mpysam.libcalignmentfile.AlignmentFile.fetch\u001b[0;34m()\u001b[0m\n",
      "\u001b[0;31mValueError\u001b[0m: fetch called on bamfile without index"
     ]
    }
   ],
   "source": [
    "num_reads = in_bam.count()"
   ]
  },
  {
   "cell_type": "code",
   "execution_count": 41,
   "id": "26d9b26d-1de1-42e5-8602-42505f8e47f0",
   "metadata": {
    "scrolled": true
   },
   "outputs": [
    {
     "name": "stdout",
     "output_type": "stream",
     "text": [
      "Total reads in BAM file: 1500\n"
     ]
    }
   ],
   "source": [
    "num_reads = sum(1 for _ in in_bam.fetch(until_eof=True))\n",
    "print(f\"Total reac in BAM file: {num_reads}\")\n"
   ]
  },
  {
   "cell_type": "code",
   "execution_count": 46,
   "id": "a81d2d84-25d9-4f5a-bda7-d5dd6d679199",
   "metadata": {},
   "outputs": [],
   "source": [
    "for (b_start, b_end) in bins:\n",
    "    bin_label = f\"{b_start}_{b_end}\"\n",
    "    bin_dir = os.path.join(output_dir, bin_label)\n",
    "    bam_dir = os.path.join(bin_dir, \"bam\")\n",
    "    os.makedirs(bam_dir, exist_ok=True)"
   ]
  },
  {
   "cell_type": "code",
   "execution_count": 48,
   "id": "78363b6e-d175-4f44-91fa-5568b59c6633",
   "metadata": {},
   "outputs": [],
   "source": [
    "out_bams = {}\n",
    "for (b_start, b_end) in bins:\n",
    "    bin_label = f\"{b_start}_{b_end}\"\n",
    "    bam_dir = os.path.join(output_dir, bin_label, \"bam\")\n",
    "    out_name = f\"{anumber}_{bin_label}.bam\"\n",
    "    out_path = os.path.join(bam_dir, out_name)\n",
    "    out_bams[(b_start, b_end)] = pysam.AlignmentFile(out_path, \"wb\", template=in_bam) "
   ]
  },
  {
   "cell_type": "code",
   "execution_count": 49,
   "id": "dbb90c3f-b9f7-4d67-bcc7-91465d886507",
   "metadata": {},
   "outputs": [
    {
     "data": {
      "text/plain": [
       "{(40, 150): <pysam.libcalignmentfile.AlignmentFile at 0x319197760>,\n",
       " (125, 155): <pysam.libcalignmentfile.AlignmentFile at 0x3191976d0>,\n",
       " (150, 180): <pysam.libcalignmentfile.AlignmentFile at 0x319197640>,\n",
       " (170, 220): <pysam.libcalignmentfile.AlignmentFile at 0x319197520>,\n",
       " (220, 345): <pysam.libcalignmentfile.AlignmentFile at 0x319195f30>}"
      ]
     },
     "execution_count": 49,
     "metadata": {},
     "output_type": "execute_result"
    }
   ],
   "source": [
    "out_bams"
   ]
  },
  {
   "cell_type": "code",
   "execution_count": null,
   "id": "c497d644-6541-4b6a-abb7-3149634f1a49",
   "metadata": {},
   "outputs": [],
   "source": []
  },
  {
   "cell_type": "code",
   "execution_count": 50,
   "id": "dd24274a-99e9-4f2a-822e-65557c4456dd",
   "metadata": {},
   "outputs": [],
   "source": [
    "for read in in_bam.fetch(until_eof=True):\n",
    "    if read.is_unmapped:\n",
    "        continue\n",
    "    tlen = abs(read.template_length)\n",
    "    for (b_start, b_end) in bins:\n",
    "        if b_start <= tlen <= b_end:\n",
    "            out_bams[(b_start, b_end)].write(read)\n",
    "            break  # Stop once we've written it to the matching bin"
   ]
  },
  {
   "cell_type": "code",
   "execution_count": 51,
   "id": "45253646-a765-49d1-b527-5044a2a89142",
   "metadata": {},
   "outputs": [],
   "source": [
    "# Close input and output BAM files\n",
    "in_bam.close()\n",
    "for bam_obj in out_bams.values():\n",
    "    bam_obj.close()\n"
   ]
  },
  {
   "cell_type": "code",
   "execution_count": null,
   "id": "77ab8c03-5629-4693-ad08-f12eac4d6305",
   "metadata": {},
   "outputs": [],
   "source": []
  },
  {
   "cell_type": "code",
   "execution_count": 41,
   "id": "0f4e24d2-22ab-4442-b8af-439d65d3d5bf",
   "metadata": {
    "scrolled": true
   },
   "outputs": [
    {
     "name": "stdout",
     "output_type": "stream",
     "text": [
      "Total reads in BAM file: 1500\n"
     ]
    }
   ],
   "source": [
    "num_reads = sum(1 for _ in in_bam.fetch(until_eof=True))\n",
    "print(f\"Total reac in BAM file: {num_reads}\")\n"
   ]
  }
 ],
 "metadata": {
  "kernelspec": {
   "display_name": "Python 3 (ipykernel)",
   "language": "python",
   "name": "python3"
  },
  "language_info": {
   "codemirror_mode": {
    "name": "ipython",
    "version": 3
   },
   "file_extension": ".py",
   "mimetype": "text/x-python",
   "name": "python",
   "nbconvert_exporter": "python",
   "pygments_lexer": "ipython3",
   "version": "3.12.2"
  }
 },
 "nbformat": 4,
 "nbformat_minor": 5
}
