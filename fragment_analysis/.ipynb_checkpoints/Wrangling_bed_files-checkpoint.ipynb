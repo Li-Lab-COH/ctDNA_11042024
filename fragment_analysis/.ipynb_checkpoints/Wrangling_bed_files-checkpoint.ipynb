{
 "cells": [
  {
   "cell_type": "code",
   "execution_count": 2,
   "id": "191066ff-17d0-4001-b153-da1a84226e1d",
   "metadata": {},
   "outputs": [],
   "source": [
    "import os\n",
    "import re\n",
    "import pandas as pd\n",
    "from glob import glob"
   ]
  },
  {
   "cell_type": "code",
   "execution_count": null,
   "id": "0b1d274e-af61-4cd3-b87a-15ea0fad7493",
   "metadata": {},
   "outputs": [],
   "source": []
  },
  {
   "cell_type": "code",
   "execution_count": 4,
   "id": "bd0fd0b9-ccda-4a19-9900-3a62793b83cb",
   "metadata": {},
   "outputs": [],
   "source": [
    "parent_dir = \"/Users/janzules/Roselab/ctDNA_11042024/data/human_binned_sequences\"\n",
    "bin_range = \"125_155\"\n",
    "intersect_folder = \"geneIntersect\"\n",
    "# or \n",
    "# intersect_folder = \"nuclIntersect\""
   ]
  },
  {
   "cell_type": "code",
   "execution_count": 6,
   "id": "c29bcfa2-2c12-455b-ae37-6796f846628a",
   "metadata": {},
   "outputs": [],
   "source": [
    "gene_intersect_dir = os.path.join(bin_dir, \"bedtool_out\")"
   ]
  },
  {
   "cell_type": "code",
   "execution_count": 5,
   "id": "18d477ab-aefa-48dd-831e-197bf561dd2a",
   "metadata": {},
   "outputs": [
    {
     "data": {
      "text/plain": [
       "'/Users/janzules/Roselab/ctDNA_11042024/data/human_binned_sequences/bedtool_out'"
      ]
     },
     "execution_count": 5,
     "metadata": {},
     "output_type": "execute_result"
    }
   ],
   "source": [
    "gene_intersect_dir\n"
   ]
  },
  {
   "cell_type": "code",
   "execution_count": 35,
   "id": "6ba1b158-5f19-4f06-a465-3c64db9c56bb",
   "metadata": {},
   "outputs": [],
   "source": [
    "def processing_bins(bin_dir, intersect_folder):\n",
    "    # Collecting bed files from the current bins directory\n",
    "    intersect_dir = os.path.join(bin_dir, \"bedtools_out\", intersect_folder)\n",
    "    bed_files = glob(os.path.join(intersect_dir, \"*_genesIntersect.bed\"))\n",
    "\n",
    "    df_list = []\n",
    "\n",
    "    # TODO: remove this item\n",
    "    Anumber_lengths = len(bed_files)\n",
    "    print(f\"This is the number of .bed files in the folder: {Anumber_lengths}\")\n",
    "    for bedfile in bed_files:\n",
    "\n",
    "        # TODO: Remove the prints and remove the first sample_id\n",
    "        #testing\n",
    "        sample_id = os.path.basename(bedfile)#.replace(\"_geneIntersect.bed\",\"\")\n",
    "        print(f\"This is the befile: {bedfile}\")\n",
    "        print(f\"This is the basename without replacement: {sample_id}\")\n",
    "        sample_id = os.path.basename(bedfile).replace(\"_genesIntersect.bed\",\"\")\n",
    "        print(f\"This is with the replacement: {sample_id}\")\n",
    "        print(\" \")\n",
    "        \n",
    "   "
   ]
  },
  {
   "cell_type": "code",
   "execution_count": 36,
   "id": "11c82c6b-a74f-4f9f-9093-c6a0c9761a1f",
   "metadata": {
    "scrolled": true
   },
   "outputs": [
    {
     "name": "stdout",
     "output_type": "stream",
     "text": [
      "This is the number of .bed files in the folder: 16\n",
      "This is the befile: /Users/janzules/Roselab/ctDNA_11042024/data/human_binned_sequences/125_155/bedtools_out/geneIntersect/A14902_125_155_genesIntersect.bed\n",
      "This is the basename without replacement: A14902_125_155_genesIntersect.bed\n",
      "This is with the replacement: A14902_125_155\n",
      " \n",
      "This is the befile: /Users/janzules/Roselab/ctDNA_11042024/data/human_binned_sequences/125_155/bedtools_out/geneIntersect/A14899_125_155_genesIntersect.bed\n",
      "This is the basename without replacement: A14899_125_155_genesIntersect.bed\n",
      "This is with the replacement: A14899_125_155\n",
      " \n",
      "This is the befile: /Users/janzules/Roselab/ctDNA_11042024/data/human_binned_sequences/125_155/bedtools_out/geneIntersect/A14895_125_155_genesIntersect.bed\n",
      "This is the basename without replacement: A14895_125_155_genesIntersect.bed\n",
      "This is with the replacement: A14895_125_155\n",
      " \n",
      "This is the befile: /Users/janzules/Roselab/ctDNA_11042024/data/human_binned_sequences/125_155/bedtools_out/geneIntersect/A14892_125_155_genesIntersect.bed\n",
      "This is the basename without replacement: A14892_125_155_genesIntersect.bed\n",
      "This is with the replacement: A14892_125_155\n",
      " \n",
      "This is the befile: /Users/janzules/Roselab/ctDNA_11042024/data/human_binned_sequences/125_155/bedtools_out/geneIntersect/A14905_125_155_genesIntersect.bed\n",
      "This is the basename without replacement: A14905_125_155_genesIntersect.bed\n",
      "This is with the replacement: A14905_125_155\n",
      " \n",
      "This is the befile: /Users/janzules/Roselab/ctDNA_11042024/data/human_binned_sequences/125_155/bedtools_out/geneIntersect/A14893_125_155_genesIntersect.bed\n",
      "This is the basename without replacement: A14893_125_155_genesIntersect.bed\n",
      "This is with the replacement: A14893_125_155\n",
      " \n",
      "This is the befile: /Users/janzules/Roselab/ctDNA_11042024/data/human_binned_sequences/125_155/bedtools_out/geneIntersect/A14904_125_155_genesIntersect.bed\n",
      "This is the basename without replacement: A14904_125_155_genesIntersect.bed\n",
      "This is with the replacement: A14904_125_155\n",
      " \n",
      "This is the befile: /Users/janzules/Roselab/ctDNA_11042024/data/human_binned_sequences/125_155/bedtools_out/geneIntersect/A14903_125_155_genesIntersect.bed\n",
      "This is the basename without replacement: A14903_125_155_genesIntersect.bed\n",
      "This is with the replacement: A14903_125_155\n",
      " \n",
      "This is the befile: /Users/janzules/Roselab/ctDNA_11042024/data/human_binned_sequences/125_155/bedtools_out/geneIntersect/A14898_125_155_genesIntersect.bed\n",
      "This is the basename without replacement: A14898_125_155_genesIntersect.bed\n",
      "This is with the replacement: A14898_125_155\n",
      " \n",
      "This is the befile: /Users/janzules/Roselab/ctDNA_11042024/data/human_binned_sequences/125_155/bedtools_out/geneIntersect/A14894_125_155_genesIntersect.bed\n",
      "This is the basename without replacement: A14894_125_155_genesIntersect.bed\n",
      "This is with the replacement: A14894_125_155\n",
      " \n",
      "This is the befile: /Users/janzules/Roselab/ctDNA_11042024/data/human_binned_sequences/125_155/bedtools_out/geneIntersect/A14906_125_155_genesIntersect.bed\n",
      "This is the basename without replacement: A14906_125_155_genesIntersect.bed\n",
      "This is with the replacement: A14906_125_155\n",
      " \n",
      "This is the befile: /Users/janzules/Roselab/ctDNA_11042024/data/human_binned_sequences/125_155/bedtools_out/geneIntersect/A14891_125_155_genesIntersect.bed\n",
      "This is the basename without replacement: A14891_125_155_genesIntersect.bed\n",
      "This is with the replacement: A14891_125_155\n",
      " \n",
      "This is the befile: /Users/janzules/Roselab/ctDNA_11042024/data/human_binned_sequences/125_155/bedtools_out/geneIntersect/A14896_125_155_genesIntersect.bed\n",
      "This is the basename without replacement: A14896_125_155_genesIntersect.bed\n",
      "This is with the replacement: A14896_125_155\n",
      " \n",
      "This is the befile: /Users/janzules/Roselab/ctDNA_11042024/data/human_binned_sequences/125_155/bedtools_out/geneIntersect/A14901_125_155_genesIntersect.bed\n",
      "This is the basename without replacement: A14901_125_155_genesIntersect.bed\n",
      "This is with the replacement: A14901_125_155\n",
      " \n",
      "This is the befile: /Users/janzules/Roselab/ctDNA_11042024/data/human_binned_sequences/125_155/bedtools_out/geneIntersect/A14897_125_155_genesIntersect.bed\n",
      "This is the basename without replacement: A14897_125_155_genesIntersect.bed\n",
      "This is with the replacement: A14897_125_155\n",
      " \n",
      "This is the befile: /Users/janzules/Roselab/ctDNA_11042024/data/human_binned_sequences/125_155/bedtools_out/geneIntersect/A14900_125_155_genesIntersect.bed\n",
      "This is the basename without replacement: A14900_125_155_genesIntersect.bed\n",
      "This is with the replacement: A14900_125_155\n",
      " \n"
     ]
    }
   ],
   "source": [
    "bin_dir = os.path.join(parent_dir, bin_range)\n",
    "processing_bins(bin_dir, intersect_folder)"
   ]
  },
  {
   "cell_type": "code",
   "execution_count": 40,
   "id": "b6e0260b-78f1-494e-bf85-94afff394b0a",
   "metadata": {},
   "outputs": [
    {
     "data": {
      "text/plain": [
       "'geneIntersect'"
      ]
     },
     "execution_count": 40,
     "metadata": {},
     "output_type": "execute_result"
    }
   ],
   "source": [
    "bin_range\n",
    "parent_dir\n",
    "intersect_folder"
   ]
  },
  {
   "cell_type": "code",
   "execution_count": 6,
   "id": "f2640021-38b5-4959-aa68-36b506ff25cf",
   "metadata": {},
   "outputs": [
    {
     "name": "stdout",
     "output_type": "stream",
     "text": [
      "/Users/janzules/Roselab/ctDNA_11042024/data/human_binned_sequences/125_155/bedtools_out/geneIntersect/A14891_125_155_genesIntersect.bed\n"
     ]
    }
   ],
   "source": [
    "test_file = os.path.join(parent_dir, bin_range,\"bedtools_out\", intersect_folder, \"A14891_125_155_genesIntersect.bed\")\n",
    "print(test_file)"
   ]
  },
  {
   "cell_type": "code",
   "execution_count": 7,
   "id": "4fe0b57a-0c62-43ae-93d5-a840725b38a5",
   "metadata": {},
   "outputs": [],
   "source": [
    "df_test = pd.read_csv(\n",
    "    test_file,\n",
    "    sep='\\t',\n",
    "    header=None,\n",
    "    names=[\"chr\",\"source\",\"feature\",\"start\",\"end\",\"score\",\"strand\",\"phase\",\"attributes\",\"count\"]\n",
    "    )\n",
    "\n",
    "# subsetting for testing\n",
    "df_sampled = df_test.sample(n=20, random_state=42)"
   ]
  },
  {
   "cell_type": "code",
   "execution_count": 49,
   "id": "5c2a84da-6715-4cbd-8082-f49005918343",
   "metadata": {
    "scrolled": true
   },
   "outputs": [
    {
     "data": {
      "text/plain": [
       "count    21542.000000\n",
       "mean       112.787578\n",
       "std        219.939016\n",
       "min          0.000000\n",
       "25%         14.000000\n",
       "50%         44.000000\n",
       "75%        120.000000\n",
       "max       4291.000000\n",
       "Name: count, dtype: float64"
      ]
     },
     "execution_count": 49,
     "metadata": {},
     "output_type": "execute_result"
    }
   ],
   "source": [
    "df_test[\"count\"].describe()"
   ]
  },
  {
   "cell_type": "code",
   "execution_count": 30,
   "id": "b10e2b7a-d0b5-42bc-8f53-1f3c2e69c45e",
   "metadata": {},
   "outputs": [],
   "source": [
    "df_test[\"gene_id\"] = df_test[\"attributes\"].apply(\n",
    "    lambda x: re.search(r\"gene:([^;]+)\", x).group(1) if re.search(r\"gene:([^;]+)\", x) else None\n",
    ")\n",
    "df_test[\"gene_name\"] = df_test[\"attributes\"].apply(\n",
    "    lambda x: re.search(r\"Name=([^;]+)\", x).group(1) if re.search(r\"Name=([^;]+)\", x) else None\n",
    ")"
   ]
  },
  {
   "cell_type": "code",
   "execution_count": 31,
   "id": "0933afaa-19b3-49b0-a7ce-7f5ef2d6519a",
   "metadata": {
    "scrolled": true
   },
   "outputs": [
    {
     "data": {
      "text/html": [
       "<div>\n",
       "<style scoped>\n",
       "    .dataframe tbody tr th:only-of-type {\n",
       "        vertical-align: middle;\n",
       "    }\n",
       "\n",
       "    .dataframe tbody tr th {\n",
       "        vertical-align: top;\n",
       "    }\n",
       "\n",
       "    .dataframe thead th {\n",
       "        text-align: right;\n",
       "    }\n",
       "</style>\n",
       "<table border=\"1\" class=\"dataframe\">\n",
       "  <thead>\n",
       "    <tr style=\"text-align: right;\">\n",
       "      <th></th>\n",
       "      <th>chr</th>\n",
       "      <th>source</th>\n",
       "      <th>feature</th>\n",
       "      <th>start</th>\n",
       "      <th>end</th>\n",
       "      <th>score</th>\n",
       "      <th>strand</th>\n",
       "      <th>phase</th>\n",
       "      <th>attributes</th>\n",
       "      <th>count</th>\n",
       "      <th>gene_id</th>\n",
       "      <th>gene_name</th>\n",
       "    </tr>\n",
       "  </thead>\n",
       "  <tbody>\n",
       "    <tr>\n",
       "      <th>0</th>\n",
       "      <td>1</td>\n",
       "      <td>ensembl_havana</td>\n",
       "      <td>gene</td>\n",
       "      <td>65419</td>\n",
       "      <td>71585</td>\n",
       "      <td>.</td>\n",
       "      <td>+</td>\n",
       "      <td>.</td>\n",
       "      <td>ID=gene:ENSG00000186092;Name=OR4F5;biotype=pro...</td>\n",
       "      <td>14</td>\n",
       "      <td>ENSG00000186092</td>\n",
       "      <td>OR4F5</td>\n",
       "    </tr>\n",
       "    <tr>\n",
       "      <th>1</th>\n",
       "      <td>1</td>\n",
       "      <td>ensembl_havana</td>\n",
       "      <td>gene</td>\n",
       "      <td>450740</td>\n",
       "      <td>451678</td>\n",
       "      <td>.</td>\n",
       "      <td>-</td>\n",
       "      <td>.</td>\n",
       "      <td>ID=gene:ENSG00000284733;Name=OR4F29;biotype=pr...</td>\n",
       "      <td>2</td>\n",
       "      <td>ENSG00000284733</td>\n",
       "      <td>OR4F29</td>\n",
       "    </tr>\n",
       "    <tr>\n",
       "      <th>2</th>\n",
       "      <td>1</td>\n",
       "      <td>ensembl_havana</td>\n",
       "      <td>gene</td>\n",
       "      <td>685716</td>\n",
       "      <td>686654</td>\n",
       "      <td>.</td>\n",
       "      <td>-</td>\n",
       "      <td>.</td>\n",
       "      <td>ID=gene:ENSG00000284662;Name=OR4F16;biotype=pr...</td>\n",
       "      <td>0</td>\n",
       "      <td>ENSG00000284662</td>\n",
       "      <td>OR4F16</td>\n",
       "    </tr>\n",
       "    <tr>\n",
       "      <th>3</th>\n",
       "      <td>1</td>\n",
       "      <td>ensembl_havana</td>\n",
       "      <td>gene</td>\n",
       "      <td>923923</td>\n",
       "      <td>944575</td>\n",
       "      <td>.</td>\n",
       "      <td>+</td>\n",
       "      <td>.</td>\n",
       "      <td>ID=gene:ENSG00000187634;Name=SAMD11;biotype=pr...</td>\n",
       "      <td>40</td>\n",
       "      <td>ENSG00000187634</td>\n",
       "      <td>SAMD11</td>\n",
       "    </tr>\n",
       "    <tr>\n",
       "      <th>4</th>\n",
       "      <td>1</td>\n",
       "      <td>ensembl_havana</td>\n",
       "      <td>gene</td>\n",
       "      <td>944203</td>\n",
       "      <td>959309</td>\n",
       "      <td>.</td>\n",
       "      <td>-</td>\n",
       "      <td>.</td>\n",
       "      <td>ID=gene:ENSG00000188976;Name=NOC2L;biotype=pro...</td>\n",
       "      <td>28</td>\n",
       "      <td>ENSG00000188976</td>\n",
       "      <td>NOC2L</td>\n",
       "    </tr>\n",
       "  </tbody>\n",
       "</table>\n",
       "</div>"
      ],
      "text/plain": [
       "  chr          source feature   start     end score strand phase  \\\n",
       "0   1  ensembl_havana    gene   65419   71585     .      +     .   \n",
       "1   1  ensembl_havana    gene  450740  451678     .      -     .   \n",
       "2   1  ensembl_havana    gene  685716  686654     .      -     .   \n",
       "3   1  ensembl_havana    gene  923923  944575     .      +     .   \n",
       "4   1  ensembl_havana    gene  944203  959309     .      -     .   \n",
       "\n",
       "                                          attributes  count          gene_id  \\\n",
       "0  ID=gene:ENSG00000186092;Name=OR4F5;biotype=pro...     14  ENSG00000186092   \n",
       "1  ID=gene:ENSG00000284733;Name=OR4F29;biotype=pr...      2  ENSG00000284733   \n",
       "2  ID=gene:ENSG00000284662;Name=OR4F16;biotype=pr...      0  ENSG00000284662   \n",
       "3  ID=gene:ENSG00000187634;Name=SAMD11;biotype=pr...     40  ENSG00000187634   \n",
       "4  ID=gene:ENSG00000188976;Name=NOC2L;biotype=pro...     28  ENSG00000188976   \n",
       "\n",
       "  gene_name  \n",
       "0     OR4F5  \n",
       "1    OR4F29  \n",
       "2    OR4F16  \n",
       "3    SAMD11  \n",
       "4     NOC2L  "
      ]
     },
     "execution_count": 31,
     "metadata": {},
     "output_type": "execute_result"
    }
   ],
   "source": [
    "df_test.head()"
   ]
  },
  {
   "cell_type": "code",
   "execution_count": 32,
   "id": "f075873c-8362-4fb3-8893-03241e7876d9",
   "metadata": {},
   "outputs": [
    {
     "name": "stdout",
     "output_type": "stream",
     "text": [
      "Empty DataFrame\n",
      "Columns: [gene_id, gene_name, count_occurrences]\n",
      "Index: []\n"
     ]
    }
   ],
   "source": [
    "df_group_counts = df_test.groupby([\"gene_id\", \"gene_name\"]).size().reset_index(name=\"count_occurrences\")\n",
    "\n",
    "# Filter only those with 2 or more occurrences\n",
    "df_duplicates = df_group_counts[df_group_counts[\"count_occurrences\"] >= 2]\n",
    "\n",
    "# Display the duplicate groups\n",
    "print(df_duplicates)\n"
   ]
  },
  {
   "cell_type": "code",
   "execution_count": 33,
   "id": "95d654af-eae1-429a-9012-99c4a0089c47",
   "metadata": {},
   "outputs": [
    {
     "name": "stdout",
     "output_type": "stream",
     "text": [
      "           gene_id gene_name  count_occurrences\n",
      "0  ENSG00000000003    TSPAN6                  1\n",
      "1  ENSG00000000005      TNMD                  1\n",
      "2  ENSG00000000419      DPM1                  1\n",
      "3  ENSG00000000457     SCYL3                  1\n",
      "4  ENSG00000000460     FIRRM                  1\n"
     ]
    }
   ],
   "source": [
    "df_group_counts = df_test.groupby([\"gene_id\", \"gene_name\"]).size().reset_index(name=\"count_occurrences\")\n",
    "\n",
    "# Display the first few rows of the grouped counts\n",
    "print(df_group_counts.head())\n"
   ]
  },
  {
   "cell_type": "code",
   "execution_count": 34,
   "id": "e9820b46-209b-4294-b9d7-21fbd1a3a5cf",
   "metadata": {},
   "outputs": [
    {
     "name": "stdout",
     "output_type": "stream",
     "text": [
      "gene_id\n",
      "ENSG00000186092    1\n",
      "ENSG00000068745    1\n",
      "ENSG00000178035    1\n",
      "ENSG00000178057    1\n",
      "ENSG00000178149    1\n",
      "ENSG00000178252    1\n",
      "ENSG00000178467    1\n",
      "ENSG00000177479    1\n",
      "ENSG00000178537    1\n",
      "ENSG00000114302    1\n",
      "ENSG00000213672    1\n",
      "ENSG00000162267    1\n",
      "ENSG00000008300    1\n",
      "ENSG00000225697    1\n",
      "ENSG00000183396    1\n",
      "ENSG00000010256    1\n",
      "ENSG00000114270    1\n",
      "ENSG00000145040    1\n",
      "ENSG00000114268    1\n",
      "ENSG00000164054    1\n",
      "Name: count, dtype: int64\n"
     ]
    }
   ],
   "source": [
    "print(df_test[\"gene_id\"].value_counts().head(20))  # Check the top 20 most frequent gene IDs\n"
   ]
  },
  {
   "cell_type": "code",
   "execution_count": null,
   "id": "ee7bc391-80da-41cf-8048-c90d7ff2720e",
   "metadata": {},
   "outputs": [],
   "source": []
  },
  {
   "cell_type": "code",
   "execution_count": null,
   "id": "42a9de02-a8bb-41a6-b754-6b3eef363f16",
   "metadata": {},
   "outputs": [],
   "source": []
  },
  {
   "cell_type": "code",
   "execution_count": null,
   "id": "c2693e5e-2359-4fbb-9390-cdd8593a3922",
   "metadata": {},
   "outputs": [],
   "source": []
  },
  {
   "cell_type": "code",
   "execution_count": 55,
   "id": "fcbce2fd-7192-42d8-9948-7323d7ef2f53",
   "metadata": {},
   "outputs": [],
   "source": [
    "import os\n",
    "import re\n",
    "import pandas as pd\n",
    "from glob import glob\n",
    "\n",
    "def process_bin_gene_counts(bin_dir, intersect_folder):\n",
    "    gene_intersect_dir = os.path.join(bin_dir, \"bedtools_out\", intersect_folder)\n",
    "    \n",
    "    bed_files = glob(os.path.join(gene_intersect_dir, \"*_genesIntersect.bed\"))\n",
    "    df_list = []\n",
    "    \n",
    "    for bedfile in bed_files:\n",
    "        # e.g. \"A14891_125_155_genesIntersect.bed\"\n",
    "        sample_id = os.path.basename(bedfile).replace(\"_genesIntersect.bed\",\"\")  # \"A14891_125_155\"\n",
    "        \n",
    "        # Read the BED file\n",
    "        # By default, pandas will treat # lines as comments if you have them. \n",
    "        # Adjust header=None if no header line in the file.\n",
    "        print(f\"Reading {sample_id}\")\n",
    "        df = pd.read_csv(\n",
    "            bedfile,\n",
    "            sep='\\t',\n",
    "            header=None,\n",
    "            names=[\"chr\",\"source\",\"feature\",\"start\",\"end\",\"score\",\"strand\",\"phase\",\"attributes\",\"count\"]\n",
    "        )\n",
    "        \n",
    "        # Parse gene_id and gene_name from the 'attributes' column\n",
    "        # Look for strings like \"ID=gene:ENSG00000186092;Name=OR4F5;...\"\n",
    "        # We'll capture \"ENSG00000186092\" and \"OR4F5\" with regex\n",
    "        df[\"gene_id\"] = df[\"attributes\"].apply(\n",
    "            lambda x: re.search(r\"gene:([^;]+)\", x).group(1) if re.search(r\"gene:([^;]+)\", x) else None\n",
    "        )\n",
    "        df[\"gene_name\"] = df[\"attributes\"].apply(\n",
    "            lambda x: re.search(r\"Name=([^;]+)\", x).group(1) if re.search(r\"Name=([^;]+)\", x) else None\n",
    "        )\n",
    "        \n",
    "        # Aggregate counts by gene\n",
    "        df_sum = df.groupby([\"gene_id\",\"gene_name\"], as_index=False)[\"count\"].sum()\n",
    "        \n",
    "        # Attach sample info\n",
    "        df_sum[\"sample\"] = sample_id\n",
    "        df_list.append(df_sum)\n",
    "\n",
    "    print(\"Finished reading files\")\n",
    "    print(\"Combining.....\")\n",
    "    # Combine into one long df\n",
    "    combined = pd.concat(df_list, ignore_index=True)\n",
    "    print(\"Finished combining\")\n",
    "    # Pivot to wide format\n",
    "    wide_counts = combined.pivot_table(\n",
    "        index=[\"gene_id\",\"gene_name\"], \n",
    "        columns=\"sample\", \n",
    "        values=\"count\",\n",
    "        fill_value=0\n",
    "    ).reset_index()\n",
    "    \n",
    "    return wide_counts"
   ]
  },
  {
   "cell_type": "code",
   "execution_count": 56,
   "id": "e611eae6-9e49-44c3-a9c0-9ec41e60a032",
   "metadata": {},
   "outputs": [],
   "source": [
    "# Example usage\n",
    "# bin_dir = \"/Users/.../ctDNA_11042024/data/human_binned_sequences/125_155\"\n",
    "# counts_125_155 = process_bin_gene_counts(bin_dir)\n",
    "# counts_125_155.to_csv(\"125_155_gene_counts.tsv\", sep=\"\\t\", index=False)\n",
    "\n",
    "# If you want to do the loop for each bin\n",
    "bins = [\"125_155\",\"150_180\",\"170_220\",\"220_345\",\"40_150\"]\n",
    "parent = \"/Users/janzules/Roselab/ctDNA_11042024/data/human_binned_sequences\"\n",
    "output_dir = \"/Users/janzules/Roselab/ctDNA_11042024/data/human_binned_sequences/ctMatrices/\"\n",
    "#Which Counts?"
   ]
  },
  {
   "cell_type": "code",
   "execution_count": 57,
   "id": "cd131aae-ee3f-4e85-a324-678209de4b36",
   "metadata": {},
   "outputs": [
    {
     "name": "stdout",
     "output_type": "stream",
     "text": [
      "geneIntersect\n"
     ]
    }
   ],
   "source": [
    "intersect_type = 'gene'\n",
    "\n",
    "if intersect_type == 'gene':\n",
    "    intersect_folder = \"geneIntersect\"\n",
    "    sub_folder = \"geneCounts\"\n",
    "    out_name = \"_gene_counts.tsv\"\n",
    "else:\n",
    "    intersect_folder = \"nuclIntersect\"\n",
    "    sub_folder = \"nuclCounts\"\n",
    "    out_name = \"_nucleosome_counts.tsv\"\n",
    "\n",
    "print(intersect_folder)"
   ]
  },
  {
   "cell_type": "code",
   "execution_count": 58,
   "id": "f4cf562c-2a2c-4832-b62c-d81b9a455e0f",
   "metadata": {},
   "outputs": [
    {
     "name": "stdout",
     "output_type": "stream",
     "text": [
      "Reading A14902_125_155\n",
      "Reading A14899_125_155\n",
      "Reading A14895_125_155\n",
      "Reading A14892_125_155\n",
      "Reading A14905_125_155\n",
      "Reading A14893_125_155\n",
      "Reading A14904_125_155\n",
      "Reading A14903_125_155\n",
      "Reading A14898_125_155\n",
      "Reading A14894_125_155\n",
      "Reading A14906_125_155\n",
      "Reading A14891_125_155\n",
      "Reading A14896_125_155\n",
      "Reading A14901_125_155\n",
      "Reading A14897_125_155\n",
      "Reading A14900_125_155\n",
      "Finished reading files\n",
      "Combining.....\n",
      "Finished combining\n",
      "Reading A14892_150_180\n",
      "Reading A14905_150_180\n",
      "Reading A14902_150_180\n"
     ]
    },
    {
     "ename": "KeyboardInterrupt",
     "evalue": "",
     "output_type": "error",
     "traceback": [
      "\u001b[0;31m---------------------------------------------------------------------------\u001b[0m",
      "\u001b[0;31mKeyboardInterrupt\u001b[0m                         Traceback (most recent call last)",
      "Cell \u001b[0;32mIn[58], line 3\u001b[0m\n\u001b[1;32m      1\u001b[0m \u001b[38;5;28;01mfor\u001b[39;00m b \u001b[38;5;129;01min\u001b[39;00m bins:\n\u001b[1;32m      2\u001b[0m     bin_path \u001b[38;5;241m=\u001b[39m os\u001b[38;5;241m.\u001b[39mpath\u001b[38;5;241m.\u001b[39mjoin(parent, b)\n\u001b[0;32m----> 3\u001b[0m     mat \u001b[38;5;241m=\u001b[39m process_bin_gene_counts(bin_path, intersect_folder)\n\u001b[1;32m      4\u001b[0m     outname \u001b[38;5;241m=\u001b[39m os\u001b[38;5;241m.\u001b[39mpath\u001b[38;5;241m.\u001b[39mjoin(output_dir, sub_folder, \u001b[38;5;124mf\u001b[39m\u001b[38;5;124m\"\u001b[39m\u001b[38;5;132;01m{\u001b[39;00mb\u001b[38;5;132;01m}\u001b[39;00m\u001b[38;5;132;01m{\u001b[39;00mout_name\u001b[38;5;132;01m}\u001b[39;00m\u001b[38;5;124m\"\u001b[39m)\n\u001b[1;32m      5\u001b[0m     mat\u001b[38;5;241m.\u001b[39mto_csv(outname, sep\u001b[38;5;241m=\u001b[39m\u001b[38;5;124m\"\u001b[39m\u001b[38;5;130;01m\\t\u001b[39;00m\u001b[38;5;124m\"\u001b[39m, index\u001b[38;5;241m=\u001b[39m\u001b[38;5;28;01mFalse\u001b[39;00m)\n",
      "Cell \u001b[0;32mIn[55], line 20\u001b[0m, in \u001b[0;36mprocess_bin_gene_counts\u001b[0;34m(bin_dir, intersect_folder)\u001b[0m\n\u001b[1;32m     16\u001b[0m \u001b[38;5;66;03m# Read the BED file\u001b[39;00m\n\u001b[1;32m     17\u001b[0m \u001b[38;5;66;03m# By default, pandas will treat # lines as comments if you have them. \u001b[39;00m\n\u001b[1;32m     18\u001b[0m \u001b[38;5;66;03m# Adjust header=None if no header line in the file.\u001b[39;00m\n\u001b[1;32m     19\u001b[0m \u001b[38;5;28mprint\u001b[39m(\u001b[38;5;124mf\u001b[39m\u001b[38;5;124m\"\u001b[39m\u001b[38;5;124mReading \u001b[39m\u001b[38;5;132;01m{\u001b[39;00msample_id\u001b[38;5;132;01m}\u001b[39;00m\u001b[38;5;124m\"\u001b[39m)\n\u001b[0;32m---> 20\u001b[0m df \u001b[38;5;241m=\u001b[39m pd\u001b[38;5;241m.\u001b[39mread_csv(\n\u001b[1;32m     21\u001b[0m     bedfile,\n\u001b[1;32m     22\u001b[0m     sep\u001b[38;5;241m=\u001b[39m\u001b[38;5;124m'\u001b[39m\u001b[38;5;130;01m\\t\u001b[39;00m\u001b[38;5;124m'\u001b[39m,\n\u001b[1;32m     23\u001b[0m     header\u001b[38;5;241m=\u001b[39m\u001b[38;5;28;01mNone\u001b[39;00m,\n\u001b[1;32m     24\u001b[0m     names\u001b[38;5;241m=\u001b[39m[\u001b[38;5;124m\"\u001b[39m\u001b[38;5;124mchr\u001b[39m\u001b[38;5;124m\"\u001b[39m,\u001b[38;5;124m\"\u001b[39m\u001b[38;5;124msource\u001b[39m\u001b[38;5;124m\"\u001b[39m,\u001b[38;5;124m\"\u001b[39m\u001b[38;5;124mfeature\u001b[39m\u001b[38;5;124m\"\u001b[39m,\u001b[38;5;124m\"\u001b[39m\u001b[38;5;124mstart\u001b[39m\u001b[38;5;124m\"\u001b[39m,\u001b[38;5;124m\"\u001b[39m\u001b[38;5;124mend\u001b[39m\u001b[38;5;124m\"\u001b[39m,\u001b[38;5;124m\"\u001b[39m\u001b[38;5;124mscore\u001b[39m\u001b[38;5;124m\"\u001b[39m,\u001b[38;5;124m\"\u001b[39m\u001b[38;5;124mstrand\u001b[39m\u001b[38;5;124m\"\u001b[39m,\u001b[38;5;124m\"\u001b[39m\u001b[38;5;124mphase\u001b[39m\u001b[38;5;124m\"\u001b[39m,\u001b[38;5;124m\"\u001b[39m\u001b[38;5;124mattributes\u001b[39m\u001b[38;5;124m\"\u001b[39m,\u001b[38;5;124m\"\u001b[39m\u001b[38;5;124mcount\u001b[39m\u001b[38;5;124m\"\u001b[39m]\n\u001b[1;32m     25\u001b[0m )\n\u001b[1;32m     27\u001b[0m \u001b[38;5;66;03m# Parse gene_id and gene_name from the 'attributes' column\u001b[39;00m\n\u001b[1;32m     28\u001b[0m \u001b[38;5;66;03m# Look for strings like \"ID=gene:ENSG00000186092;Name=OR4F5;...\"\u001b[39;00m\n\u001b[1;32m     29\u001b[0m \u001b[38;5;66;03m# We'll capture \"ENSG00000186092\" and \"OR4F5\" with regex\u001b[39;00m\n\u001b[1;32m     30\u001b[0m df[\u001b[38;5;124m\"\u001b[39m\u001b[38;5;124mgene_id\u001b[39m\u001b[38;5;124m\"\u001b[39m] \u001b[38;5;241m=\u001b[39m df[\u001b[38;5;124m\"\u001b[39m\u001b[38;5;124mattributes\u001b[39m\u001b[38;5;124m\"\u001b[39m]\u001b[38;5;241m.\u001b[39mapply(\n\u001b[1;32m     31\u001b[0m     \u001b[38;5;28;01mlambda\u001b[39;00m x: re\u001b[38;5;241m.\u001b[39msearch(\u001b[38;5;124mr\u001b[39m\u001b[38;5;124m\"\u001b[39m\u001b[38;5;124mgene:([^;]+)\u001b[39m\u001b[38;5;124m\"\u001b[39m, x)\u001b[38;5;241m.\u001b[39mgroup(\u001b[38;5;241m1\u001b[39m) \u001b[38;5;28;01mif\u001b[39;00m re\u001b[38;5;241m.\u001b[39msearch(\u001b[38;5;124mr\u001b[39m\u001b[38;5;124m\"\u001b[39m\u001b[38;5;124mgene:([^;]+)\u001b[39m\u001b[38;5;124m\"\u001b[39m, x) \u001b[38;5;28;01melse\u001b[39;00m \u001b[38;5;28;01mNone\u001b[39;00m\n\u001b[1;32m     32\u001b[0m )\n",
      "File \u001b[0;32m~/anaconda3/lib/python3.12/site-packages/pandas/io/parsers/readers.py:1026\u001b[0m, in \u001b[0;36mread_csv\u001b[0;34m(filepath_or_buffer, sep, delimiter, header, names, index_col, usecols, dtype, engine, converters, true_values, false_values, skipinitialspace, skiprows, skipfooter, nrows, na_values, keep_default_na, na_filter, verbose, skip_blank_lines, parse_dates, infer_datetime_format, keep_date_col, date_parser, date_format, dayfirst, cache_dates, iterator, chunksize, compression, thousands, decimal, lineterminator, quotechar, quoting, doublequote, escapechar, comment, encoding, encoding_errors, dialect, on_bad_lines, delim_whitespace, low_memory, memory_map, float_precision, storage_options, dtype_backend)\u001b[0m\n\u001b[1;32m   1013\u001b[0m kwds_defaults \u001b[38;5;241m=\u001b[39m _refine_defaults_read(\n\u001b[1;32m   1014\u001b[0m     dialect,\n\u001b[1;32m   1015\u001b[0m     delimiter,\n\u001b[0;32m   (...)\u001b[0m\n\u001b[1;32m   1022\u001b[0m     dtype_backend\u001b[38;5;241m=\u001b[39mdtype_backend,\n\u001b[1;32m   1023\u001b[0m )\n\u001b[1;32m   1024\u001b[0m kwds\u001b[38;5;241m.\u001b[39mupdate(kwds_defaults)\n\u001b[0;32m-> 1026\u001b[0m \u001b[38;5;28;01mreturn\u001b[39;00m _read(filepath_or_buffer, kwds)\n",
      "File \u001b[0;32m~/anaconda3/lib/python3.12/site-packages/pandas/io/parsers/readers.py:626\u001b[0m, in \u001b[0;36m_read\u001b[0;34m(filepath_or_buffer, kwds)\u001b[0m\n\u001b[1;32m    623\u001b[0m     \u001b[38;5;28;01mreturn\u001b[39;00m parser\n\u001b[1;32m    625\u001b[0m \u001b[38;5;28;01mwith\u001b[39;00m parser:\n\u001b[0;32m--> 626\u001b[0m     \u001b[38;5;28;01mreturn\u001b[39;00m parser\u001b[38;5;241m.\u001b[39mread(nrows)\n",
      "File \u001b[0;32m~/anaconda3/lib/python3.12/site-packages/pandas/io/parsers/readers.py:1923\u001b[0m, in \u001b[0;36mTextFileReader.read\u001b[0;34m(self, nrows)\u001b[0m\n\u001b[1;32m   1916\u001b[0m nrows \u001b[38;5;241m=\u001b[39m validate_integer(\u001b[38;5;124m\"\u001b[39m\u001b[38;5;124mnrows\u001b[39m\u001b[38;5;124m\"\u001b[39m, nrows)\n\u001b[1;32m   1917\u001b[0m \u001b[38;5;28;01mtry\u001b[39;00m:\n\u001b[1;32m   1918\u001b[0m     \u001b[38;5;66;03m# error: \"ParserBase\" has no attribute \"read\"\u001b[39;00m\n\u001b[1;32m   1919\u001b[0m     (\n\u001b[1;32m   1920\u001b[0m         index,\n\u001b[1;32m   1921\u001b[0m         columns,\n\u001b[1;32m   1922\u001b[0m         col_dict,\n\u001b[0;32m-> 1923\u001b[0m     ) \u001b[38;5;241m=\u001b[39m \u001b[38;5;28mself\u001b[39m\u001b[38;5;241m.\u001b[39m_engine\u001b[38;5;241m.\u001b[39mread(  \u001b[38;5;66;03m# type: ignore[attr-defined]\u001b[39;00m\n\u001b[1;32m   1924\u001b[0m         nrows\n\u001b[1;32m   1925\u001b[0m     )\n\u001b[1;32m   1926\u001b[0m \u001b[38;5;28;01mexcept\u001b[39;00m \u001b[38;5;167;01mException\u001b[39;00m:\n\u001b[1;32m   1927\u001b[0m     \u001b[38;5;28mself\u001b[39m\u001b[38;5;241m.\u001b[39mclose()\n",
      "File \u001b[0;32m~/anaconda3/lib/python3.12/site-packages/pandas/io/parsers/c_parser_wrapper.py:234\u001b[0m, in \u001b[0;36mCParserWrapper.read\u001b[0;34m(self, nrows)\u001b[0m\n\u001b[1;32m    232\u001b[0m \u001b[38;5;28;01mtry\u001b[39;00m:\n\u001b[1;32m    233\u001b[0m     \u001b[38;5;28;01mif\u001b[39;00m \u001b[38;5;28mself\u001b[39m\u001b[38;5;241m.\u001b[39mlow_memory:\n\u001b[0;32m--> 234\u001b[0m         chunks \u001b[38;5;241m=\u001b[39m \u001b[38;5;28mself\u001b[39m\u001b[38;5;241m.\u001b[39m_reader\u001b[38;5;241m.\u001b[39mread_low_memory(nrows)\n\u001b[1;32m    235\u001b[0m         \u001b[38;5;66;03m# destructive to chunks\u001b[39;00m\n\u001b[1;32m    236\u001b[0m         data \u001b[38;5;241m=\u001b[39m _concatenate_chunks(chunks)\n",
      "File \u001b[0;32mparsers.pyx:838\u001b[0m, in \u001b[0;36mpandas._libs.parsers.TextReader.read_low_memory\u001b[0;34m()\u001b[0m\n",
      "File \u001b[0;32mparsers.pyx:905\u001b[0m, in \u001b[0;36mpandas._libs.parsers.TextReader._read_rows\u001b[0;34m()\u001b[0m\n",
      "File \u001b[0;32mparsers.pyx:874\u001b[0m, in \u001b[0;36mpandas._libs.parsers.TextReader._tokenize_rows\u001b[0;34m()\u001b[0m\n",
      "File \u001b[0;32mparsers.pyx:891\u001b[0m, in \u001b[0;36mpandas._libs.parsers.TextReader._check_tokenize_status\u001b[0;34m()\u001b[0m\n",
      "File \u001b[0;32mparsers.pyx:2053\u001b[0m, in \u001b[0;36mpandas._libs.parsers.raise_parser_error\u001b[0;34m()\u001b[0m\n",
      "File \u001b[0;32m<frozen codecs>:331\u001b[0m, in \u001b[0;36mgetstate\u001b[0;34m(self)\u001b[0m\n",
      "\u001b[0;31mKeyboardInterrupt\u001b[0m: "
     ]
    }
   ],
   "source": [
    "\n",
    "for b in bins:\n",
    "    bin_path = os.path.join(parent, b)\n",
    "    mat = process_bin_gene_counts(bin_path, intersect_folder)\n",
    "    outname = os.path.join(output_dir, sub_folder, f\"{b}{out_name}\")\n",
    "    mat.to_csv(outname, sep=\"\\t\", index=False)"
   ]
  },
  {
   "cell_type": "code",
   "execution_count": null,
   "id": "4dbc875e-b38d-4cbe-9d5a-e2b00fd27f2c",
   "metadata": {},
   "outputs": [],
   "source": []
  }
 ],
 "metadata": {
  "kernelspec": {
   "display_name": "Python 3 (ipykernel)",
   "language": "python",
   "name": "python3"
  },
  "language_info": {
   "codemirror_mode": {
    "name": "ipython",
    "version": 3
   },
   "file_extension": ".py",
   "mimetype": "text/x-python",
   "name": "python",
   "nbconvert_exporter": "python",
   "pygments_lexer": "ipython3",
   "version": "3.12.2"
  }
 },
 "nbformat": 4,
 "nbformat_minor": 5
}
