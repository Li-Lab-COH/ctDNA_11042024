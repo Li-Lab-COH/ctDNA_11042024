{
 "cells": [
  {
   "cell_type": "code",
   "execution_count": 15,
   "id": "cfb45e4d-564f-446a-9720-36796d5b769f",
   "metadata": {},
   "outputs": [],
   "source": [
    "import os\n",
    "import re\n",
    "import pandas as pd\n",
    "from glob import glob"
   ]
  },
  {
   "cell_type": "code",
   "execution_count": 54,
   "id": "1b87ff93-e315-4867-9338-86446753d1cc",
   "metadata": {},
   "outputs": [],
   "source": [
    "def process_bin_gene_counts(bin_dir, intersect_folder, dtype):\n",
    "    gene_intersect_dir = os.path.join(bin_dir, \"bedtools_out\", intersect_folder)\n",
    "\n",
    "    if dtype == 'gene':\n",
    "        bed_files = glob(os.path.join(gene_intersect_dir, \"*_genesIntersect.bed\"))\n",
    "    elif dtype == 'nucleosome':\n",
    "        bed_files = glob(os.path.join(gene_intersect_dir, \"*_nucIntersect.bed\"))\n",
    "    df_list = []\n",
    "    \n",
    "    print(f\"{gene_intersect_dir}\")\n",
    "    for bed in bed_files:\n",
    "        print(\"\")\n",
    "        print(bed)\n",
    "    for bedfile in bed_files:\n",
    "        \n",
    "        if dtype == 'gene':\n",
    "            \n",
    "            # Extract sample ID from filename (e.g., \"A14891_125_155_genesIntersect.bed\" -> \"A14891_125_155\")\n",
    "            if dtype == 'gene':\n",
    "                sample_id = os.path.basename(bedfile).replace(\"_genesIntersect.bed\", \"\")\n",
    "            if dtype == 'nucleosome':\n",
    "                sample_id = os.path.basename(bedfile).replace(\"_nucIntersect.bed\", \"\")\n",
    "            \n",
    "            print(f\"Reading {sample_id}\")\n",
    "            df = pd.read_csv(\n",
    "                bedfile,\n",
    "                sep='\\t',\n",
    "                header=None,\n",
    "                names=[\"chr\", \"source\", \"feature\", \"start\", \"end\", \"score\", \"strand\", \"phase\", \"attributes\", \"count\"]\n",
    "            )\n",
    "            \n",
    "            # Extract gene_id and gene_name from attributes\n",
    "            df[\"gene_id\"] = df[\"attributes\"].apply(\n",
    "                lambda x: re.search(r\"gene:([^;]+)\", x).group(1) if re.search(r\"gene:([^;]+)\", x) else None\n",
    "            )\n",
    "            df[\"gene_name\"] = df[\"attributes\"].apply(\n",
    "                lambda x: re.search(r\"Name=([^;]+)\", x).group(1) if re.search(r\"Name=([^;]+)\", x) else None\n",
    "            )\n",
    "            \n",
    "            # Retain only necessary columns\n",
    "            df_final = df[[\"gene_id\", \"gene_name\", \"chr\", \"start\", \"end\", \"count\"]].copy()\n",
    "            df_final[\"sample\"] = sample_id  # Attach sample info\n",
    "            \n",
    "            df_list.append(df_final)\n",
    "        if dtype == 'nucleosome':\n",
    "            \n",
    "\n",
    "    print(\"Finished reading files\")\n",
    "    print(\"Combining.....\")\n",
    "\n",
    "    # Combine all data into one DataFrame\n",
    "    combined = pd.concat(df_list, ignore_index=True)\n",
    "    \n",
    "    print(\"Finished combining\")\n",
    "\n",
    "    # Pivot to wide format **keeping chr, start, end as gene locations**\n",
    "    wide_counts = combined.pivot_table(\n",
    "        index=[\"gene_id\", \"gene_name\", \"chr\", \"start\", \"end\"], \n",
    "        columns=\"sample\", \n",
    "        values=\"count\",\n",
    "        fill_value=0\n",
    "    ).reset_index()\n",
    "\n",
    "    return wide_counts"
   ]
  },
  {
   "cell_type": "code",
   "execution_count": 71,
   "id": "19a0277d-ecd0-40e4-9523-73b31237942a",
   "metadata": {},
   "outputs": [],
   "source": [
    "import os\n",
    "import re\n",
    "import pandas as pd\n",
    "from glob import glob\n",
    "\n",
    "def process_bin_counts(bin_dir, intersect_folder, dtype):\n",
    "    \"\"\"\n",
    "    Generates a count matrix for genes or nucleosomes from BEDTools intersect files.\n",
    "    \n",
    "    Parameters:\n",
    "    - bin_dir: Path to bin directory (e.g., \"125_155\").\n",
    "    - intersect_folder: Subfolder inside \"bedtools_out\" for intersect files.\n",
    "    - dtype: Type of analysis ('gene' or 'nucleosome').\n",
    "    \n",
    "    Returns:\n",
    "    - Pandas DataFrame containing the count matrix.\n",
    "    \"\"\"\n",
    "    intersect_dir = os.path.join(bin_dir, \"bedtools_out\", intersect_folder)\n",
    "\n",
    "    # Identify files based on dtype\n",
    "    if dtype == 'gene':\n",
    "        bed_files = glob(os.path.join(intersect_dir, \"*_genesIntersect.bed\"))\n",
    "    elif dtype == 'nucleosome':\n",
    "        bed_files = glob(os.path.join(intersect_dir, \"*_nucIntersect.bed\"))\n",
    "    else:\n",
    "        raise ValueError(\"Invalid dtype. Use 'gene' or 'nucleosome'.\")\n",
    "\n",
    "    df_list = []\n",
    "\n",
    "    print(f\"Processing {dtype} data in: {intersect_dir}\")\n",
    "    \n",
    "    for bedfile in bed_files:\n",
    "        # Extract sample ID from filename\n",
    "        sample_id = os.path.basename(bedfile).replace(\"_genesIntersect.bed\", \"\").replace(\"_nucIntersect.bed\", \"\")\n",
    "        print(f\"Reading {sample_id}\")\n",
    "\n",
    "        if dtype == 'gene':\n",
    "            df = pd.read_csv(\n",
    "                bedfile,\n",
    "                sep='\\t',\n",
    "                header=None,\n",
    "                names=[\"chr\", \"source\", \"feature\", \"start\", \"end\", \"score\", \"strand\", \"phase\", \"attributes\", \"count\"],\n",
    "                dtype={\"attributes\": str},  # Force attributes column to be a string\n",
    "                na_values=[\".\", \"NA\"]  # Handle missing values\n",
    "            )\n",
    "\n",
    "            # Ensure attributes column is a string before applying regex\n",
    "            df[\"attributes\"] = df[\"attributes\"].fillna(\"\").astype(str)\n",
    "\n",
    "            # Extract gene_id and gene_name only if dtype == 'gene'\n",
    "            df[\"gene_id\"] = df[\"attributes\"].apply(\n",
    "                lambda x: re.search(r\"gene:([^;]+)\", x).group(1) if re.search(r\"gene:([^;]+)\", x) else None\n",
    "            )\n",
    "            df[\"gene_name\"] = df[\"attributes\"].apply(\n",
    "                lambda x: re.search(r\"Name=([^;]+)\", x).group(1) if re.search(r\"Name=([^;]+)\", x) else None\n",
    "            )\n",
    "\n",
    "            df_final = df[[\"gene_id\", \"gene_name\", \"chr\", \"start\", \"end\", \"count\"]].copy()\n",
    "\n",
    "        elif dtype == 'nucleosome':\n",
    "            df = pd.read_csv(\n",
    "                bedfile,\n",
    "                sep='\\t',\n",
    "                header=None,\n",
    "                names=[\"chr\", \"start\", \"end\", \"nuc_id\", \"peak1\", \"peak2\", \"unknown\", \"count\"],\n",
    "                dtype={\"chr\": str, \"start\": int, \"end\": int, \"nuc_id\": str, \"count\": int},  # Ensures correct types\n",
    "                na_values=[\".\", \"NA\"]  # Handle missing values\n",
    "            )\n",
    "\n",
    "            # Keep only necessary columns\n",
    "            df_final = df[[\"chr\", \"start\", \"end\", \"nuc_id\", \"count\"]].copy()\n",
    "\n",
    "        df_final[\"sample\"] = sample_id  # Attach sample info\n",
    "        df_list.append(df_final)\n",
    "\n",
    "    print(\"Finished reading files. Combining data...\")\n",
    "\n",
    "    # Combine all data into one DataFrame\n",
    "    combined = pd.concat(df_list, ignore_index=True)\n",
    "\n",
    "    # Pivot to wide format for DESeq2 compatibility\n",
    "    if dtype == 'gene':\n",
    "        index_cols = [\"gene_id\", \"gene_name\", \"chr\", \"start\", \"end\"]\n",
    "    else:  # nucleosome case\n",
    "        index_cols = [\"chr\", \"start\", \"end\", \"nuc_id\"]\n",
    "\n",
    "    wide_counts = combined.pivot_table(\n",
    "        index=index_cols,\n",
    "        columns=\"sample\",\n",
    "        values=\"count\",\n",
    "        fill_value=0\n",
    "    ).reset_index()\n",
    "\n",
    "    print(\"Finished creating count matrix.\")\n",
    "    return wide_counts\n"
   ]
  },
  {
   "cell_type": "code",
   "execution_count": 40,
   "id": "e611eae6-9e49-44c3-a9c0-9ec41e60a032",
   "metadata": {},
   "outputs": [],
   "source": [
    "# Example usage\n",
    "# bin_dir = \"/Users/.../ctDNA_11042024/data/human_binned_sequences/125_155\"\n",
    "# counts_125_155 = process_bin_gene_counts(bin_dir)\n",
    "# counts_125_155.to_csv(\"125_155_gene_counts.tsv\", sep=\"\\t\", index=False)\n",
    "\n",
    "# If you want to do the loop for each bin\n",
    "bins = [\"125_155\",\"150_180\",\"170_220\",\"220_345\",\"40_150\"]\n",
    "# bins = [\"0_345\"]\n",
    "parent = \"/Users/janzules/Roselab/ctDNA_11042024/data/human_binned_sequences\"\n",
    "output_dir = \"/Users/janzules/Roselab/ctDNA_11042024/data/human_binned_sequences/ctMatrices/\"\n",
    "#Which Counts?"
   ]
  },
  {
   "cell_type": "code",
   "execution_count": 72,
   "id": "cd131aae-ee3f-4e85-a324-678209de4b36",
   "metadata": {},
   "outputs": [
    {
     "name": "stdout",
     "output_type": "stream",
     "text": [
      "nuclIntersect\n",
      "nucleosome\n"
     ]
    }
   ],
   "source": [
    "# intersect_type = 'gene'\n",
    "intersect_type = \"nucleosome\"\n",
    "\n",
    "if intersect_type == 'gene':\n",
    "    intersect_folder = \"geneIntersect\"\n",
    "    sub_folder = \"geneCounts\"\n",
    "    out_name = \"_gene_counts.tsv\"\n",
    "    dtype = 'gene'\n",
    "elif intersect_type == 'nucleosome':\n",
    "    intersect_folder = \"nuclIntersect\"\n",
    "    sub_folder = \"nuclCounts\"\n",
    "    out_name = \"_nucleosome_counts.tsv\"\n",
    "    dtype = 'nucleosome'\n",
    "    \n",
    "\n",
    "print(intersect_folder)\n",
    "print(dtype)"
   ]
  },
  {
   "cell_type": "code",
   "execution_count": 73,
   "id": "519f3669-e15e-4e4e-850d-9ffd6acf59bf",
   "metadata": {},
   "outputs": [
    {
     "data": {
      "text/plain": [
       "'nucleosome'"
      ]
     },
     "execution_count": 73,
     "metadata": {},
     "output_type": "execute_result"
    }
   ],
   "source": [
    "dtype"
   ]
  },
  {
   "cell_type": "code",
   "execution_count": 74,
   "id": "1cf1298b-e297-45c6-bd7e-f9ce458f0ecf",
   "metadata": {
    "scrolled": true
   },
   "outputs": [
    {
     "name": "stdout",
     "output_type": "stream",
     "text": [
      "/Users/janzules/Roselab/ctDNA_11042024/data/human_binned_sequences/125_155/bedtools_out/nuclIntersect\n",
      "\n",
      "/Users/janzules/Roselab/ctDNA_11042024/data/human_binned_sequences/125_155/bedtools_out/nuclIntersect/A14891_125_155_nucIntersect.bed\n",
      "\n",
      "/Users/janzules/Roselab/ctDNA_11042024/data/human_binned_sequences/125_155/bedtools_out/nuclIntersect/A14895_125_155_nucIntersect.bed\n",
      "\n",
      "/Users/janzules/Roselab/ctDNA_11042024/data/human_binned_sequences/125_155/bedtools_out/nuclIntersect/A14899_125_155_nucIntersect.bed\n",
      "\n",
      "/Users/janzules/Roselab/ctDNA_11042024/data/human_binned_sequences/125_155/bedtools_out/nuclIntersect/A14902_125_155_nucIntersect.bed\n",
      "\n",
      "/Users/janzules/Roselab/ctDNA_11042024/data/human_binned_sequences/125_155/bedtools_out/nuclIntersect/A14906_125_155_nucIntersect.bed\n",
      "\n",
      "/Users/janzules/Roselab/ctDNA_11042024/data/human_binned_sequences/125_155/bedtools_out/nuclIntersect/A14903_125_155_nucIntersect.bed\n",
      "\n",
      "/Users/janzules/Roselab/ctDNA_11042024/data/human_binned_sequences/125_155/bedtools_out/nuclIntersect/A14894_125_155_nucIntersect.bed\n",
      "\n",
      "/Users/janzules/Roselab/ctDNA_11042024/data/human_binned_sequences/125_155/bedtools_out/nuclIntersect/A14898_125_155_nucIntersect.bed\n",
      "\n",
      "/Users/janzules/Roselab/ctDNA_11042024/data/human_binned_sequences/125_155/bedtools_out/nuclIntersect/A14901_125_155_nucIntersect.bed\n",
      "\n",
      "/Users/janzules/Roselab/ctDNA_11042024/data/human_binned_sequences/125_155/bedtools_out/nuclIntersect/A14905_125_155_nucIntersect.bed\n",
      "\n",
      "/Users/janzules/Roselab/ctDNA_11042024/data/human_binned_sequences/125_155/bedtools_out/nuclIntersect/A14892_125_155_nucIntersect.bed\n",
      "\n",
      "/Users/janzules/Roselab/ctDNA_11042024/data/human_binned_sequences/125_155/bedtools_out/nuclIntersect/A14896_125_155_nucIntersect.bed\n",
      "\n",
      "/Users/janzules/Roselab/ctDNA_11042024/data/human_binned_sequences/125_155/bedtools_out/nuclIntersect/A14897_125_155_nucIntersect.bed\n",
      "\n",
      "/Users/janzules/Roselab/ctDNA_11042024/data/human_binned_sequences/125_155/bedtools_out/nuclIntersect/A14893_125_155_nucIntersect.bed\n",
      "\n",
      "/Users/janzules/Roselab/ctDNA_11042024/data/human_binned_sequences/125_155/bedtools_out/nuclIntersect/A14904_125_155_nucIntersect.bed\n",
      "\n",
      "/Users/janzules/Roselab/ctDNA_11042024/data/human_binned_sequences/125_155/bedtools_out/nuclIntersect/A14900_125_155_nucIntersect.bed\n",
      "Reading A14891_125_155\n"
     ]
    },
    {
     "name": "stderr",
     "output_type": "stream",
     "text": [
      "/var/folders/np/h5smkry919g1mwf1wtltfqtm0000gp/T/ipykernel_70950/2639188696.py:22: DtypeWarning: Columns (0) have mixed types. Specify dtype option on import or set low_memory=False.\n",
      "  df = pd.read_csv(\n"
     ]
    },
    {
     "ename": "TypeError",
     "evalue": "expected string or bytes-like object, got 'float'",
     "output_type": "error",
     "traceback": [
      "\u001b[0;31m---------------------------------------------------------------------------\u001b[0m",
      "\u001b[0;31mTypeError\u001b[0m                                 Traceback (most recent call last)",
      "Cell \u001b[0;32mIn[74], line 2\u001b[0m\n\u001b[1;32m      1\u001b[0m bin_path \u001b[38;5;241m=\u001b[39m os\u001b[38;5;241m.\u001b[39mpath\u001b[38;5;241m.\u001b[39mjoin(parent, \u001b[38;5;124m\"\u001b[39m\u001b[38;5;124m125_155\u001b[39m\u001b[38;5;124m\"\u001b[39m)\n\u001b[0;32m----> 2\u001b[0m a \u001b[38;5;241m=\u001b[39m process_bin_gene_counts(bin_path, intersect_folder, dtype)\n",
      "Cell \u001b[0;32mIn[54], line 30\u001b[0m, in \u001b[0;36mprocess_bin_gene_counts\u001b[0;34m(bin_dir, intersect_folder, dtype)\u001b[0m\n\u001b[1;32m     22\u001b[0m df \u001b[38;5;241m=\u001b[39m pd\u001b[38;5;241m.\u001b[39mread_csv(\n\u001b[1;32m     23\u001b[0m     bedfile,\n\u001b[1;32m     24\u001b[0m     sep\u001b[38;5;241m=\u001b[39m\u001b[38;5;124m'\u001b[39m\u001b[38;5;130;01m\\t\u001b[39;00m\u001b[38;5;124m'\u001b[39m,\n\u001b[1;32m     25\u001b[0m     header\u001b[38;5;241m=\u001b[39m\u001b[38;5;28;01mNone\u001b[39;00m,\n\u001b[1;32m     26\u001b[0m     names\u001b[38;5;241m=\u001b[39m[\u001b[38;5;124m\"\u001b[39m\u001b[38;5;124mchr\u001b[39m\u001b[38;5;124m\"\u001b[39m, \u001b[38;5;124m\"\u001b[39m\u001b[38;5;124msource\u001b[39m\u001b[38;5;124m\"\u001b[39m, \u001b[38;5;124m\"\u001b[39m\u001b[38;5;124mfeature\u001b[39m\u001b[38;5;124m\"\u001b[39m, \u001b[38;5;124m\"\u001b[39m\u001b[38;5;124mstart\u001b[39m\u001b[38;5;124m\"\u001b[39m, \u001b[38;5;124m\"\u001b[39m\u001b[38;5;124mend\u001b[39m\u001b[38;5;124m\"\u001b[39m, \u001b[38;5;124m\"\u001b[39m\u001b[38;5;124mscore\u001b[39m\u001b[38;5;124m\"\u001b[39m, \u001b[38;5;124m\"\u001b[39m\u001b[38;5;124mstrand\u001b[39m\u001b[38;5;124m\"\u001b[39m, \u001b[38;5;124m\"\u001b[39m\u001b[38;5;124mphase\u001b[39m\u001b[38;5;124m\"\u001b[39m, \u001b[38;5;124m\"\u001b[39m\u001b[38;5;124mattributes\u001b[39m\u001b[38;5;124m\"\u001b[39m, \u001b[38;5;124m\"\u001b[39m\u001b[38;5;124mcount\u001b[39m\u001b[38;5;124m\"\u001b[39m]\n\u001b[1;32m     27\u001b[0m )\n\u001b[1;32m     29\u001b[0m \u001b[38;5;66;03m# Extract gene_id and gene_name from attributes\u001b[39;00m\n\u001b[0;32m---> 30\u001b[0m df[\u001b[38;5;124m\"\u001b[39m\u001b[38;5;124mgene_id\u001b[39m\u001b[38;5;124m\"\u001b[39m] \u001b[38;5;241m=\u001b[39m df[\u001b[38;5;124m\"\u001b[39m\u001b[38;5;124mattributes\u001b[39m\u001b[38;5;124m\"\u001b[39m]\u001b[38;5;241m.\u001b[39mapply(\n\u001b[1;32m     31\u001b[0m     \u001b[38;5;28;01mlambda\u001b[39;00m x: re\u001b[38;5;241m.\u001b[39msearch(\u001b[38;5;124mr\u001b[39m\u001b[38;5;124m\"\u001b[39m\u001b[38;5;124mgene:([^;]+)\u001b[39m\u001b[38;5;124m\"\u001b[39m, x)\u001b[38;5;241m.\u001b[39mgroup(\u001b[38;5;241m1\u001b[39m) \u001b[38;5;28;01mif\u001b[39;00m re\u001b[38;5;241m.\u001b[39msearch(\u001b[38;5;124mr\u001b[39m\u001b[38;5;124m\"\u001b[39m\u001b[38;5;124mgene:([^;]+)\u001b[39m\u001b[38;5;124m\"\u001b[39m, x) \u001b[38;5;28;01melse\u001b[39;00m \u001b[38;5;28;01mNone\u001b[39;00m\n\u001b[1;32m     32\u001b[0m )\n\u001b[1;32m     33\u001b[0m df[\u001b[38;5;124m\"\u001b[39m\u001b[38;5;124mgene_name\u001b[39m\u001b[38;5;124m\"\u001b[39m] \u001b[38;5;241m=\u001b[39m df[\u001b[38;5;124m\"\u001b[39m\u001b[38;5;124mattributes\u001b[39m\u001b[38;5;124m\"\u001b[39m]\u001b[38;5;241m.\u001b[39mapply(\n\u001b[1;32m     34\u001b[0m     \u001b[38;5;28;01mlambda\u001b[39;00m x: re\u001b[38;5;241m.\u001b[39msearch(\u001b[38;5;124mr\u001b[39m\u001b[38;5;124m\"\u001b[39m\u001b[38;5;124mName=([^;]+)\u001b[39m\u001b[38;5;124m\"\u001b[39m, x)\u001b[38;5;241m.\u001b[39mgroup(\u001b[38;5;241m1\u001b[39m) \u001b[38;5;28;01mif\u001b[39;00m re\u001b[38;5;241m.\u001b[39msearch(\u001b[38;5;124mr\u001b[39m\u001b[38;5;124m\"\u001b[39m\u001b[38;5;124mName=([^;]+)\u001b[39m\u001b[38;5;124m\"\u001b[39m, x) \u001b[38;5;28;01melse\u001b[39;00m \u001b[38;5;28;01mNone\u001b[39;00m\n\u001b[1;32m     35\u001b[0m )\n\u001b[1;32m     37\u001b[0m \u001b[38;5;66;03m# Retain only necessary columns\u001b[39;00m\n",
      "File \u001b[0;32m~/anaconda3/lib/python3.12/site-packages/pandas/core/series.py:4924\u001b[0m, in \u001b[0;36mSeries.apply\u001b[0;34m(self, func, convert_dtype, args, by_row, **kwargs)\u001b[0m\n\u001b[1;32m   4789\u001b[0m \u001b[38;5;28;01mdef\u001b[39;00m \u001b[38;5;21mapply\u001b[39m(\n\u001b[1;32m   4790\u001b[0m     \u001b[38;5;28mself\u001b[39m,\n\u001b[1;32m   4791\u001b[0m     func: AggFuncType,\n\u001b[0;32m   (...)\u001b[0m\n\u001b[1;32m   4796\u001b[0m     \u001b[38;5;241m*\u001b[39m\u001b[38;5;241m*\u001b[39mkwargs,\n\u001b[1;32m   4797\u001b[0m ) \u001b[38;5;241m-\u001b[39m\u001b[38;5;241m>\u001b[39m DataFrame \u001b[38;5;241m|\u001b[39m Series:\n\u001b[1;32m   4798\u001b[0m \u001b[38;5;250m    \u001b[39m\u001b[38;5;124;03m\"\"\"\u001b[39;00m\n\u001b[1;32m   4799\u001b[0m \u001b[38;5;124;03m    Invoke function on values of Series.\u001b[39;00m\n\u001b[1;32m   4800\u001b[0m \n\u001b[0;32m   (...)\u001b[0m\n\u001b[1;32m   4915\u001b[0m \u001b[38;5;124;03m    dtype: float64\u001b[39;00m\n\u001b[1;32m   4916\u001b[0m \u001b[38;5;124;03m    \"\"\"\u001b[39;00m\n\u001b[1;32m   4917\u001b[0m     \u001b[38;5;28;01mreturn\u001b[39;00m SeriesApply(\n\u001b[1;32m   4918\u001b[0m         \u001b[38;5;28mself\u001b[39m,\n\u001b[1;32m   4919\u001b[0m         func,\n\u001b[1;32m   4920\u001b[0m         convert_dtype\u001b[38;5;241m=\u001b[39mconvert_dtype,\n\u001b[1;32m   4921\u001b[0m         by_row\u001b[38;5;241m=\u001b[39mby_row,\n\u001b[1;32m   4922\u001b[0m         args\u001b[38;5;241m=\u001b[39margs,\n\u001b[1;32m   4923\u001b[0m         kwargs\u001b[38;5;241m=\u001b[39mkwargs,\n\u001b[0;32m-> 4924\u001b[0m     )\u001b[38;5;241m.\u001b[39mapply()\n",
      "File \u001b[0;32m~/anaconda3/lib/python3.12/site-packages/pandas/core/apply.py:1427\u001b[0m, in \u001b[0;36mSeriesApply.apply\u001b[0;34m(self)\u001b[0m\n\u001b[1;32m   1424\u001b[0m     \u001b[38;5;28;01mreturn\u001b[39;00m \u001b[38;5;28mself\u001b[39m\u001b[38;5;241m.\u001b[39mapply_compat()\n\u001b[1;32m   1426\u001b[0m \u001b[38;5;66;03m# self.func is Callable\u001b[39;00m\n\u001b[0;32m-> 1427\u001b[0m \u001b[38;5;28;01mreturn\u001b[39;00m \u001b[38;5;28mself\u001b[39m\u001b[38;5;241m.\u001b[39mapply_standard()\n",
      "File \u001b[0;32m~/anaconda3/lib/python3.12/site-packages/pandas/core/apply.py:1507\u001b[0m, in \u001b[0;36mSeriesApply.apply_standard\u001b[0;34m(self)\u001b[0m\n\u001b[1;32m   1501\u001b[0m \u001b[38;5;66;03m# row-wise access\u001b[39;00m\n\u001b[1;32m   1502\u001b[0m \u001b[38;5;66;03m# apply doesn't have a `na_action` keyword and for backward compat reasons\u001b[39;00m\n\u001b[1;32m   1503\u001b[0m \u001b[38;5;66;03m# we need to give `na_action=\"ignore\"` for categorical data.\u001b[39;00m\n\u001b[1;32m   1504\u001b[0m \u001b[38;5;66;03m# TODO: remove the `na_action=\"ignore\"` when that default has been changed in\u001b[39;00m\n\u001b[1;32m   1505\u001b[0m \u001b[38;5;66;03m#  Categorical (GH51645).\u001b[39;00m\n\u001b[1;32m   1506\u001b[0m action \u001b[38;5;241m=\u001b[39m \u001b[38;5;124m\"\u001b[39m\u001b[38;5;124mignore\u001b[39m\u001b[38;5;124m\"\u001b[39m \u001b[38;5;28;01mif\u001b[39;00m \u001b[38;5;28misinstance\u001b[39m(obj\u001b[38;5;241m.\u001b[39mdtype, CategoricalDtype) \u001b[38;5;28;01melse\u001b[39;00m \u001b[38;5;28;01mNone\u001b[39;00m\n\u001b[0;32m-> 1507\u001b[0m mapped \u001b[38;5;241m=\u001b[39m obj\u001b[38;5;241m.\u001b[39m_map_values(\n\u001b[1;32m   1508\u001b[0m     mapper\u001b[38;5;241m=\u001b[39mcurried, na_action\u001b[38;5;241m=\u001b[39maction, convert\u001b[38;5;241m=\u001b[39m\u001b[38;5;28mself\u001b[39m\u001b[38;5;241m.\u001b[39mconvert_dtype\n\u001b[1;32m   1509\u001b[0m )\n\u001b[1;32m   1511\u001b[0m \u001b[38;5;28;01mif\u001b[39;00m \u001b[38;5;28mlen\u001b[39m(mapped) \u001b[38;5;129;01mand\u001b[39;00m \u001b[38;5;28misinstance\u001b[39m(mapped[\u001b[38;5;241m0\u001b[39m], ABCSeries):\n\u001b[1;32m   1512\u001b[0m     \u001b[38;5;66;03m# GH#43986 Need to do list(mapped) in order to get treated as nested\u001b[39;00m\n\u001b[1;32m   1513\u001b[0m     \u001b[38;5;66;03m#  See also GH#25959 regarding EA support\u001b[39;00m\n\u001b[1;32m   1514\u001b[0m     \u001b[38;5;28;01mreturn\u001b[39;00m obj\u001b[38;5;241m.\u001b[39m_constructor_expanddim(\u001b[38;5;28mlist\u001b[39m(mapped), index\u001b[38;5;241m=\u001b[39mobj\u001b[38;5;241m.\u001b[39mindex)\n",
      "File \u001b[0;32m~/anaconda3/lib/python3.12/site-packages/pandas/core/base.py:921\u001b[0m, in \u001b[0;36mIndexOpsMixin._map_values\u001b[0;34m(self, mapper, na_action, convert)\u001b[0m\n\u001b[1;32m    918\u001b[0m \u001b[38;5;28;01mif\u001b[39;00m \u001b[38;5;28misinstance\u001b[39m(arr, ExtensionArray):\n\u001b[1;32m    919\u001b[0m     \u001b[38;5;28;01mreturn\u001b[39;00m arr\u001b[38;5;241m.\u001b[39mmap(mapper, na_action\u001b[38;5;241m=\u001b[39mna_action)\n\u001b[0;32m--> 921\u001b[0m \u001b[38;5;28;01mreturn\u001b[39;00m algorithms\u001b[38;5;241m.\u001b[39mmap_array(arr, mapper, na_action\u001b[38;5;241m=\u001b[39mna_action, convert\u001b[38;5;241m=\u001b[39mconvert)\n",
      "File \u001b[0;32m~/anaconda3/lib/python3.12/site-packages/pandas/core/algorithms.py:1743\u001b[0m, in \u001b[0;36mmap_array\u001b[0;34m(arr, mapper, na_action, convert)\u001b[0m\n\u001b[1;32m   1741\u001b[0m values \u001b[38;5;241m=\u001b[39m arr\u001b[38;5;241m.\u001b[39mastype(\u001b[38;5;28mobject\u001b[39m, copy\u001b[38;5;241m=\u001b[39m\u001b[38;5;28;01mFalse\u001b[39;00m)\n\u001b[1;32m   1742\u001b[0m \u001b[38;5;28;01mif\u001b[39;00m na_action \u001b[38;5;129;01mis\u001b[39;00m \u001b[38;5;28;01mNone\u001b[39;00m:\n\u001b[0;32m-> 1743\u001b[0m     \u001b[38;5;28;01mreturn\u001b[39;00m lib\u001b[38;5;241m.\u001b[39mmap_infer(values, mapper, convert\u001b[38;5;241m=\u001b[39mconvert)\n\u001b[1;32m   1744\u001b[0m \u001b[38;5;28;01melse\u001b[39;00m:\n\u001b[1;32m   1745\u001b[0m     \u001b[38;5;28;01mreturn\u001b[39;00m lib\u001b[38;5;241m.\u001b[39mmap_infer_mask(\n\u001b[1;32m   1746\u001b[0m         values, mapper, mask\u001b[38;5;241m=\u001b[39misna(values)\u001b[38;5;241m.\u001b[39mview(np\u001b[38;5;241m.\u001b[39muint8), convert\u001b[38;5;241m=\u001b[39mconvert\n\u001b[1;32m   1747\u001b[0m     )\n",
      "File \u001b[0;32mlib.pyx:2972\u001b[0m, in \u001b[0;36mpandas._libs.lib.map_infer\u001b[0;34m()\u001b[0m\n",
      "Cell \u001b[0;32mIn[54], line 31\u001b[0m, in \u001b[0;36mprocess_bin_gene_counts.<locals>.<lambda>\u001b[0;34m(x)\u001b[0m\n\u001b[1;32m     22\u001b[0m df \u001b[38;5;241m=\u001b[39m pd\u001b[38;5;241m.\u001b[39mread_csv(\n\u001b[1;32m     23\u001b[0m     bedfile,\n\u001b[1;32m     24\u001b[0m     sep\u001b[38;5;241m=\u001b[39m\u001b[38;5;124m'\u001b[39m\u001b[38;5;130;01m\\t\u001b[39;00m\u001b[38;5;124m'\u001b[39m,\n\u001b[1;32m     25\u001b[0m     header\u001b[38;5;241m=\u001b[39m\u001b[38;5;28;01mNone\u001b[39;00m,\n\u001b[1;32m     26\u001b[0m     names\u001b[38;5;241m=\u001b[39m[\u001b[38;5;124m\"\u001b[39m\u001b[38;5;124mchr\u001b[39m\u001b[38;5;124m\"\u001b[39m, \u001b[38;5;124m\"\u001b[39m\u001b[38;5;124msource\u001b[39m\u001b[38;5;124m\"\u001b[39m, \u001b[38;5;124m\"\u001b[39m\u001b[38;5;124mfeature\u001b[39m\u001b[38;5;124m\"\u001b[39m, \u001b[38;5;124m\"\u001b[39m\u001b[38;5;124mstart\u001b[39m\u001b[38;5;124m\"\u001b[39m, \u001b[38;5;124m\"\u001b[39m\u001b[38;5;124mend\u001b[39m\u001b[38;5;124m\"\u001b[39m, \u001b[38;5;124m\"\u001b[39m\u001b[38;5;124mscore\u001b[39m\u001b[38;5;124m\"\u001b[39m, \u001b[38;5;124m\"\u001b[39m\u001b[38;5;124mstrand\u001b[39m\u001b[38;5;124m\"\u001b[39m, \u001b[38;5;124m\"\u001b[39m\u001b[38;5;124mphase\u001b[39m\u001b[38;5;124m\"\u001b[39m, \u001b[38;5;124m\"\u001b[39m\u001b[38;5;124mattributes\u001b[39m\u001b[38;5;124m\"\u001b[39m, \u001b[38;5;124m\"\u001b[39m\u001b[38;5;124mcount\u001b[39m\u001b[38;5;124m\"\u001b[39m]\n\u001b[1;32m     27\u001b[0m )\n\u001b[1;32m     29\u001b[0m \u001b[38;5;66;03m# Extract gene_id and gene_name from attributes\u001b[39;00m\n\u001b[1;32m     30\u001b[0m df[\u001b[38;5;124m\"\u001b[39m\u001b[38;5;124mgene_id\u001b[39m\u001b[38;5;124m\"\u001b[39m] \u001b[38;5;241m=\u001b[39m df[\u001b[38;5;124m\"\u001b[39m\u001b[38;5;124mattributes\u001b[39m\u001b[38;5;124m\"\u001b[39m]\u001b[38;5;241m.\u001b[39mapply(\n\u001b[0;32m---> 31\u001b[0m     \u001b[38;5;28;01mlambda\u001b[39;00m x: re\u001b[38;5;241m.\u001b[39msearch(\u001b[38;5;124mr\u001b[39m\u001b[38;5;124m\"\u001b[39m\u001b[38;5;124mgene:([^;]+)\u001b[39m\u001b[38;5;124m\"\u001b[39m, x)\u001b[38;5;241m.\u001b[39mgroup(\u001b[38;5;241m1\u001b[39m) \u001b[38;5;28;01mif\u001b[39;00m re\u001b[38;5;241m.\u001b[39msearch(\u001b[38;5;124mr\u001b[39m\u001b[38;5;124m\"\u001b[39m\u001b[38;5;124mgene:([^;]+)\u001b[39m\u001b[38;5;124m\"\u001b[39m, x) \u001b[38;5;28;01melse\u001b[39;00m \u001b[38;5;28;01mNone\u001b[39;00m\n\u001b[1;32m     32\u001b[0m )\n\u001b[1;32m     33\u001b[0m df[\u001b[38;5;124m\"\u001b[39m\u001b[38;5;124mgene_name\u001b[39m\u001b[38;5;124m\"\u001b[39m] \u001b[38;5;241m=\u001b[39m df[\u001b[38;5;124m\"\u001b[39m\u001b[38;5;124mattributes\u001b[39m\u001b[38;5;124m\"\u001b[39m]\u001b[38;5;241m.\u001b[39mapply(\n\u001b[1;32m     34\u001b[0m     \u001b[38;5;28;01mlambda\u001b[39;00m x: re\u001b[38;5;241m.\u001b[39msearch(\u001b[38;5;124mr\u001b[39m\u001b[38;5;124m\"\u001b[39m\u001b[38;5;124mName=([^;]+)\u001b[39m\u001b[38;5;124m\"\u001b[39m, x)\u001b[38;5;241m.\u001b[39mgroup(\u001b[38;5;241m1\u001b[39m) \u001b[38;5;28;01mif\u001b[39;00m re\u001b[38;5;241m.\u001b[39msearch(\u001b[38;5;124mr\u001b[39m\u001b[38;5;124m\"\u001b[39m\u001b[38;5;124mName=([^;]+)\u001b[39m\u001b[38;5;124m\"\u001b[39m, x) \u001b[38;5;28;01melse\u001b[39;00m \u001b[38;5;28;01mNone\u001b[39;00m\n\u001b[1;32m     35\u001b[0m )\n\u001b[1;32m     37\u001b[0m \u001b[38;5;66;03m# Retain only necessary columns\u001b[39;00m\n",
      "File \u001b[0;32m~/anaconda3/lib/python3.12/re/__init__.py:177\u001b[0m, in \u001b[0;36msearch\u001b[0;34m(pattern, string, flags)\u001b[0m\n\u001b[1;32m    174\u001b[0m \u001b[38;5;28;01mdef\u001b[39;00m \u001b[38;5;21msearch\u001b[39m(pattern, string, flags\u001b[38;5;241m=\u001b[39m\u001b[38;5;241m0\u001b[39m):\n\u001b[1;32m    175\u001b[0m \u001b[38;5;250m    \u001b[39m\u001b[38;5;124;03m\"\"\"Scan through string looking for a match to the pattern, returning\u001b[39;00m\n\u001b[1;32m    176\u001b[0m \u001b[38;5;124;03m    a Match object, or None if no match was found.\"\"\"\u001b[39;00m\n\u001b[0;32m--> 177\u001b[0m     \u001b[38;5;28;01mreturn\u001b[39;00m _compile(pattern, flags)\u001b[38;5;241m.\u001b[39msearch(string)\n",
      "\u001b[0;31mTypeError\u001b[0m: expected string or bytes-like object, got 'float'"
     ]
    }
   ],
   "source": [
    "bin_path = os.path.join(parent, \"125_155\")\n",
    "a = process_bin_gene_counts(bin_path, intersect_folder, dtype)"
   ]
  },
  {
   "cell_type": "code",
   "execution_count": 75,
   "id": "ffcb7e12-3eee-43c3-9c58-af07036fc245",
   "metadata": {},
   "outputs": [
    {
     "ename": "NameError",
     "evalue": "name 'a' is not defined",
     "output_type": "error",
     "traceback": [
      "\u001b[0;31m---------------------------------------------------------------------------\u001b[0m",
      "\u001b[0;31mNameError\u001b[0m                                 Traceback (most recent call last)",
      "Cell \u001b[0;32mIn[75], line 1\u001b[0m\n\u001b[0;32m----> 1\u001b[0m a\n",
      "\u001b[0;31mNameError\u001b[0m: name 'a' is not defined"
     ]
    }
   ],
   "source": [
    "a"
   ]
  },
  {
   "cell_type": "code",
   "execution_count": 46,
   "id": "f4cf562c-2a2c-4832-b62c-d81b9a455e0f",
   "metadata": {},
   "outputs": [
    {
     "name": "stdout",
     "output_type": "stream",
     "text": [
      "/Users/janzules/Roselab/ctDNA_11042024/data/human_binned_sequences/125_155/bedtools_out/nuclIntersect\n",
      "['/Users/janzules/Roselab/ctDNA_11042024/data/human_binned_sequences/125_155/bedtools_out/nuclIntersect/A14891_125_155_nucIntersect.bed', '/Users/janzules/Roselab/ctDNA_11042024/data/human_binned_sequences/125_155/bedtools_out/nuclIntersect/A14895_125_155_nucIntersect.bed', '/Users/janzules/Roselab/ctDNA_11042024/data/human_binned_sequences/125_155/bedtools_out/nuclIntersect/A14899_125_155_nucIntersect.bed', '/Users/janzules/Roselab/ctDNA_11042024/data/human_binned_sequences/125_155/bedtools_out/nuclIntersect/A14902_125_155_nucIntersect.bed', '/Users/janzules/Roselab/ctDNA_11042024/data/human_binned_sequences/125_155/bedtools_out/nuclIntersect/A14906_125_155_nucIntersect.bed', '/Users/janzules/Roselab/ctDNA_11042024/data/human_binned_sequences/125_155/bedtools_out/nuclIntersect/A14903_125_155_nucIntersect.bed', '/Users/janzules/Roselab/ctDNA_11042024/data/human_binned_sequences/125_155/bedtools_out/nuclIntersect/A14894_125_155_nucIntersect.bed', '/Users/janzules/Roselab/ctDNA_11042024/data/human_binned_sequences/125_155/bedtools_out/nuclIntersect/A14898_125_155_nucIntersect.bed', '/Users/janzules/Roselab/ctDNA_11042024/data/human_binned_sequences/125_155/bedtools_out/nuclIntersect/A14901_125_155_nucIntersect.bed', '/Users/janzules/Roselab/ctDNA_11042024/data/human_binned_sequences/125_155/bedtools_out/nuclIntersect/A14905_125_155_nucIntersect.bed', '/Users/janzules/Roselab/ctDNA_11042024/data/human_binned_sequences/125_155/bedtools_out/nuclIntersect/A14892_125_155_nucIntersect.bed', '/Users/janzules/Roselab/ctDNA_11042024/data/human_binned_sequences/125_155/bedtools_out/nuclIntersect/A14896_125_155_nucIntersect.bed', '/Users/janzules/Roselab/ctDNA_11042024/data/human_binned_sequences/125_155/bedtools_out/nuclIntersect/A14897_125_155_nucIntersect.bed', '/Users/janzules/Roselab/ctDNA_11042024/data/human_binned_sequences/125_155/bedtools_out/nuclIntersect/A14893_125_155_nucIntersect.bed', '/Users/janzules/Roselab/ctDNA_11042024/data/human_binned_sequences/125_155/bedtools_out/nuclIntersect/A14904_125_155_nucIntersect.bed', '/Users/janzules/Roselab/ctDNA_11042024/data/human_binned_sequences/125_155/bedtools_out/nuclIntersect/A14900_125_155_nucIntersect.bed']\n",
      "Reading A14891_125_155\n"
     ]
    },
    {
     "name": "stderr",
     "output_type": "stream",
     "text": [
      "/var/folders/np/h5smkry919g1mwf1wtltfqtm0000gp/T/ipykernel_70950/2479269669.py:20: DtypeWarning: Columns (0) have mixed types. Specify dtype option on import or set low_memory=False.\n",
      "  df = pd.read_csv(\n"
     ]
    },
    {
     "ename": "TypeError",
     "evalue": "expected string or bytes-like object, got 'float'",
     "output_type": "error",
     "traceback": [
      "\u001b[0;31m---------------------------------------------------------------------------\u001b[0m",
      "\u001b[0;31mTypeError\u001b[0m                                 Traceback (most recent call last)",
      "Cell \u001b[0;32mIn[46], line 3\u001b[0m\n\u001b[1;32m      1\u001b[0m \u001b[38;5;28;01mfor\u001b[39;00m b \u001b[38;5;129;01min\u001b[39;00m bins:\n\u001b[1;32m      2\u001b[0m     bin_path \u001b[38;5;241m=\u001b[39m os\u001b[38;5;241m.\u001b[39mpath\u001b[38;5;241m.\u001b[39mjoin(parent, b)\n\u001b[0;32m----> 3\u001b[0m     mat \u001b[38;5;241m=\u001b[39m process_bin_gene_counts(bin_path, intersect_folder, dtype)\n\u001b[1;32m      4\u001b[0m     outname \u001b[38;5;241m=\u001b[39m os\u001b[38;5;241m.\u001b[39mpath\u001b[38;5;241m.\u001b[39mjoin(output_dir, sub_folder, \u001b[38;5;124mf\u001b[39m\u001b[38;5;124m\"\u001b[39m\u001b[38;5;132;01m{\u001b[39;00mb\u001b[38;5;132;01m}\u001b[39;00m\u001b[38;5;132;01m{\u001b[39;00mout_name\u001b[38;5;132;01m}\u001b[39;00m\u001b[38;5;124m\"\u001b[39m)\n\u001b[1;32m      5\u001b[0m     mat\u001b[38;5;241m.\u001b[39mto_csv(outname, sep\u001b[38;5;241m=\u001b[39m\u001b[38;5;124m\"\u001b[39m\u001b[38;5;130;01m\\t\u001b[39;00m\u001b[38;5;124m\"\u001b[39m, index\u001b[38;5;241m=\u001b[39m\u001b[38;5;28;01mFalse\u001b[39;00m)\n",
      "Cell \u001b[0;32mIn[43], line 28\u001b[0m, in \u001b[0;36mprocess_bin_gene_counts\u001b[0;34m(bin_dir, intersect_folder, dtype)\u001b[0m\n\u001b[1;32m     20\u001b[0m df \u001b[38;5;241m=\u001b[39m pd\u001b[38;5;241m.\u001b[39mread_csv(\n\u001b[1;32m     21\u001b[0m     bedfile,\n\u001b[1;32m     22\u001b[0m     sep\u001b[38;5;241m=\u001b[39m\u001b[38;5;124m'\u001b[39m\u001b[38;5;130;01m\\t\u001b[39;00m\u001b[38;5;124m'\u001b[39m,\n\u001b[1;32m     23\u001b[0m     header\u001b[38;5;241m=\u001b[39m\u001b[38;5;28;01mNone\u001b[39;00m,\n\u001b[1;32m     24\u001b[0m     names\u001b[38;5;241m=\u001b[39m[\u001b[38;5;124m\"\u001b[39m\u001b[38;5;124mchr\u001b[39m\u001b[38;5;124m\"\u001b[39m, \u001b[38;5;124m\"\u001b[39m\u001b[38;5;124msource\u001b[39m\u001b[38;5;124m\"\u001b[39m, \u001b[38;5;124m\"\u001b[39m\u001b[38;5;124mfeature\u001b[39m\u001b[38;5;124m\"\u001b[39m, \u001b[38;5;124m\"\u001b[39m\u001b[38;5;124mstart\u001b[39m\u001b[38;5;124m\"\u001b[39m, \u001b[38;5;124m\"\u001b[39m\u001b[38;5;124mend\u001b[39m\u001b[38;5;124m\"\u001b[39m, \u001b[38;5;124m\"\u001b[39m\u001b[38;5;124mscore\u001b[39m\u001b[38;5;124m\"\u001b[39m, \u001b[38;5;124m\"\u001b[39m\u001b[38;5;124mstrand\u001b[39m\u001b[38;5;124m\"\u001b[39m, \u001b[38;5;124m\"\u001b[39m\u001b[38;5;124mphase\u001b[39m\u001b[38;5;124m\"\u001b[39m, \u001b[38;5;124m\"\u001b[39m\u001b[38;5;124mattributes\u001b[39m\u001b[38;5;124m\"\u001b[39m, \u001b[38;5;124m\"\u001b[39m\u001b[38;5;124mcount\u001b[39m\u001b[38;5;124m\"\u001b[39m]\n\u001b[1;32m     25\u001b[0m )\n\u001b[1;32m     27\u001b[0m \u001b[38;5;66;03m# Extract gene_id and gene_name from attributes\u001b[39;00m\n\u001b[0;32m---> 28\u001b[0m df[\u001b[38;5;124m\"\u001b[39m\u001b[38;5;124mgene_id\u001b[39m\u001b[38;5;124m\"\u001b[39m] \u001b[38;5;241m=\u001b[39m df[\u001b[38;5;124m\"\u001b[39m\u001b[38;5;124mattributes\u001b[39m\u001b[38;5;124m\"\u001b[39m]\u001b[38;5;241m.\u001b[39mapply(\n\u001b[1;32m     29\u001b[0m     \u001b[38;5;28;01mlambda\u001b[39;00m x: re\u001b[38;5;241m.\u001b[39msearch(\u001b[38;5;124mr\u001b[39m\u001b[38;5;124m\"\u001b[39m\u001b[38;5;124mgene:([^;]+)\u001b[39m\u001b[38;5;124m\"\u001b[39m, x)\u001b[38;5;241m.\u001b[39mgroup(\u001b[38;5;241m1\u001b[39m) \u001b[38;5;28;01mif\u001b[39;00m re\u001b[38;5;241m.\u001b[39msearch(\u001b[38;5;124mr\u001b[39m\u001b[38;5;124m\"\u001b[39m\u001b[38;5;124mgene:([^;]+)\u001b[39m\u001b[38;5;124m\"\u001b[39m, x) \u001b[38;5;28;01melse\u001b[39;00m \u001b[38;5;28;01mNone\u001b[39;00m\n\u001b[1;32m     30\u001b[0m )\n\u001b[1;32m     31\u001b[0m df[\u001b[38;5;124m\"\u001b[39m\u001b[38;5;124mgene_name\u001b[39m\u001b[38;5;124m\"\u001b[39m] \u001b[38;5;241m=\u001b[39m df[\u001b[38;5;124m\"\u001b[39m\u001b[38;5;124mattributes\u001b[39m\u001b[38;5;124m\"\u001b[39m]\u001b[38;5;241m.\u001b[39mapply(\n\u001b[1;32m     32\u001b[0m     \u001b[38;5;28;01mlambda\u001b[39;00m x: re\u001b[38;5;241m.\u001b[39msearch(\u001b[38;5;124mr\u001b[39m\u001b[38;5;124m\"\u001b[39m\u001b[38;5;124mName=([^;]+)\u001b[39m\u001b[38;5;124m\"\u001b[39m, x)\u001b[38;5;241m.\u001b[39mgroup(\u001b[38;5;241m1\u001b[39m) \u001b[38;5;28;01mif\u001b[39;00m re\u001b[38;5;241m.\u001b[39msearch(\u001b[38;5;124mr\u001b[39m\u001b[38;5;124m\"\u001b[39m\u001b[38;5;124mName=([^;]+)\u001b[39m\u001b[38;5;124m\"\u001b[39m, x) \u001b[38;5;28;01melse\u001b[39;00m \u001b[38;5;28;01mNone\u001b[39;00m\n\u001b[1;32m     33\u001b[0m )\n\u001b[1;32m     35\u001b[0m \u001b[38;5;66;03m# Retain only necessary columns\u001b[39;00m\n",
      "File \u001b[0;32m~/anaconda3/lib/python3.12/site-packages/pandas/core/series.py:4924\u001b[0m, in \u001b[0;36mSeries.apply\u001b[0;34m(self, func, convert_dtype, args, by_row, **kwargs)\u001b[0m\n\u001b[1;32m   4789\u001b[0m \u001b[38;5;28;01mdef\u001b[39;00m \u001b[38;5;21mapply\u001b[39m(\n\u001b[1;32m   4790\u001b[0m     \u001b[38;5;28mself\u001b[39m,\n\u001b[1;32m   4791\u001b[0m     func: AggFuncType,\n\u001b[0;32m   (...)\u001b[0m\n\u001b[1;32m   4796\u001b[0m     \u001b[38;5;241m*\u001b[39m\u001b[38;5;241m*\u001b[39mkwargs,\n\u001b[1;32m   4797\u001b[0m ) \u001b[38;5;241m-\u001b[39m\u001b[38;5;241m>\u001b[39m DataFrame \u001b[38;5;241m|\u001b[39m Series:\n\u001b[1;32m   4798\u001b[0m \u001b[38;5;250m    \u001b[39m\u001b[38;5;124;03m\"\"\"\u001b[39;00m\n\u001b[1;32m   4799\u001b[0m \u001b[38;5;124;03m    Invoke function on values of Series.\u001b[39;00m\n\u001b[1;32m   4800\u001b[0m \n\u001b[0;32m   (...)\u001b[0m\n\u001b[1;32m   4915\u001b[0m \u001b[38;5;124;03m    dtype: float64\u001b[39;00m\n\u001b[1;32m   4916\u001b[0m \u001b[38;5;124;03m    \"\"\"\u001b[39;00m\n\u001b[1;32m   4917\u001b[0m     \u001b[38;5;28;01mreturn\u001b[39;00m SeriesApply(\n\u001b[1;32m   4918\u001b[0m         \u001b[38;5;28mself\u001b[39m,\n\u001b[1;32m   4919\u001b[0m         func,\n\u001b[1;32m   4920\u001b[0m         convert_dtype\u001b[38;5;241m=\u001b[39mconvert_dtype,\n\u001b[1;32m   4921\u001b[0m         by_row\u001b[38;5;241m=\u001b[39mby_row,\n\u001b[1;32m   4922\u001b[0m         args\u001b[38;5;241m=\u001b[39margs,\n\u001b[1;32m   4923\u001b[0m         kwargs\u001b[38;5;241m=\u001b[39mkwargs,\n\u001b[0;32m-> 4924\u001b[0m     )\u001b[38;5;241m.\u001b[39mapply()\n",
      "File \u001b[0;32m~/anaconda3/lib/python3.12/site-packages/pandas/core/apply.py:1427\u001b[0m, in \u001b[0;36mSeriesApply.apply\u001b[0;34m(self)\u001b[0m\n\u001b[1;32m   1424\u001b[0m     \u001b[38;5;28;01mreturn\u001b[39;00m \u001b[38;5;28mself\u001b[39m\u001b[38;5;241m.\u001b[39mapply_compat()\n\u001b[1;32m   1426\u001b[0m \u001b[38;5;66;03m# self.func is Callable\u001b[39;00m\n\u001b[0;32m-> 1427\u001b[0m \u001b[38;5;28;01mreturn\u001b[39;00m \u001b[38;5;28mself\u001b[39m\u001b[38;5;241m.\u001b[39mapply_standard()\n",
      "File \u001b[0;32m~/anaconda3/lib/python3.12/site-packages/pandas/core/apply.py:1507\u001b[0m, in \u001b[0;36mSeriesApply.apply_standard\u001b[0;34m(self)\u001b[0m\n\u001b[1;32m   1501\u001b[0m \u001b[38;5;66;03m# row-wise access\u001b[39;00m\n\u001b[1;32m   1502\u001b[0m \u001b[38;5;66;03m# apply doesn't have a `na_action` keyword and for backward compat reasons\u001b[39;00m\n\u001b[1;32m   1503\u001b[0m \u001b[38;5;66;03m# we need to give `na_action=\"ignore\"` for categorical data.\u001b[39;00m\n\u001b[1;32m   1504\u001b[0m \u001b[38;5;66;03m# TODO: remove the `na_action=\"ignore\"` when that default has been changed in\u001b[39;00m\n\u001b[1;32m   1505\u001b[0m \u001b[38;5;66;03m#  Categorical (GH51645).\u001b[39;00m\n\u001b[1;32m   1506\u001b[0m action \u001b[38;5;241m=\u001b[39m \u001b[38;5;124m\"\u001b[39m\u001b[38;5;124mignore\u001b[39m\u001b[38;5;124m\"\u001b[39m \u001b[38;5;28;01mif\u001b[39;00m \u001b[38;5;28misinstance\u001b[39m(obj\u001b[38;5;241m.\u001b[39mdtype, CategoricalDtype) \u001b[38;5;28;01melse\u001b[39;00m \u001b[38;5;28;01mNone\u001b[39;00m\n\u001b[0;32m-> 1507\u001b[0m mapped \u001b[38;5;241m=\u001b[39m obj\u001b[38;5;241m.\u001b[39m_map_values(\n\u001b[1;32m   1508\u001b[0m     mapper\u001b[38;5;241m=\u001b[39mcurried, na_action\u001b[38;5;241m=\u001b[39maction, convert\u001b[38;5;241m=\u001b[39m\u001b[38;5;28mself\u001b[39m\u001b[38;5;241m.\u001b[39mconvert_dtype\n\u001b[1;32m   1509\u001b[0m )\n\u001b[1;32m   1511\u001b[0m \u001b[38;5;28;01mif\u001b[39;00m \u001b[38;5;28mlen\u001b[39m(mapped) \u001b[38;5;129;01mand\u001b[39;00m \u001b[38;5;28misinstance\u001b[39m(mapped[\u001b[38;5;241m0\u001b[39m], ABCSeries):\n\u001b[1;32m   1512\u001b[0m     \u001b[38;5;66;03m# GH#43986 Need to do list(mapped) in order to get treated as nested\u001b[39;00m\n\u001b[1;32m   1513\u001b[0m     \u001b[38;5;66;03m#  See also GH#25959 regarding EA support\u001b[39;00m\n\u001b[1;32m   1514\u001b[0m     \u001b[38;5;28;01mreturn\u001b[39;00m obj\u001b[38;5;241m.\u001b[39m_constructor_expanddim(\u001b[38;5;28mlist\u001b[39m(mapped), index\u001b[38;5;241m=\u001b[39mobj\u001b[38;5;241m.\u001b[39mindex)\n",
      "File \u001b[0;32m~/anaconda3/lib/python3.12/site-packages/pandas/core/base.py:921\u001b[0m, in \u001b[0;36mIndexOpsMixin._map_values\u001b[0;34m(self, mapper, na_action, convert)\u001b[0m\n\u001b[1;32m    918\u001b[0m \u001b[38;5;28;01mif\u001b[39;00m \u001b[38;5;28misinstance\u001b[39m(arr, ExtensionArray):\n\u001b[1;32m    919\u001b[0m     \u001b[38;5;28;01mreturn\u001b[39;00m arr\u001b[38;5;241m.\u001b[39mmap(mapper, na_action\u001b[38;5;241m=\u001b[39mna_action)\n\u001b[0;32m--> 921\u001b[0m \u001b[38;5;28;01mreturn\u001b[39;00m algorithms\u001b[38;5;241m.\u001b[39mmap_array(arr, mapper, na_action\u001b[38;5;241m=\u001b[39mna_action, convert\u001b[38;5;241m=\u001b[39mconvert)\n",
      "File \u001b[0;32m~/anaconda3/lib/python3.12/site-packages/pandas/core/algorithms.py:1743\u001b[0m, in \u001b[0;36mmap_array\u001b[0;34m(arr, mapper, na_action, convert)\u001b[0m\n\u001b[1;32m   1741\u001b[0m values \u001b[38;5;241m=\u001b[39m arr\u001b[38;5;241m.\u001b[39mastype(\u001b[38;5;28mobject\u001b[39m, copy\u001b[38;5;241m=\u001b[39m\u001b[38;5;28;01mFalse\u001b[39;00m)\n\u001b[1;32m   1742\u001b[0m \u001b[38;5;28;01mif\u001b[39;00m na_action \u001b[38;5;129;01mis\u001b[39;00m \u001b[38;5;28;01mNone\u001b[39;00m:\n\u001b[0;32m-> 1743\u001b[0m     \u001b[38;5;28;01mreturn\u001b[39;00m lib\u001b[38;5;241m.\u001b[39mmap_infer(values, mapper, convert\u001b[38;5;241m=\u001b[39mconvert)\n\u001b[1;32m   1744\u001b[0m \u001b[38;5;28;01melse\u001b[39;00m:\n\u001b[1;32m   1745\u001b[0m     \u001b[38;5;28;01mreturn\u001b[39;00m lib\u001b[38;5;241m.\u001b[39mmap_infer_mask(\n\u001b[1;32m   1746\u001b[0m         values, mapper, mask\u001b[38;5;241m=\u001b[39misna(values)\u001b[38;5;241m.\u001b[39mview(np\u001b[38;5;241m.\u001b[39muint8), convert\u001b[38;5;241m=\u001b[39mconvert\n\u001b[1;32m   1747\u001b[0m     )\n",
      "File \u001b[0;32mlib.pyx:2972\u001b[0m, in \u001b[0;36mpandas._libs.lib.map_infer\u001b[0;34m()\u001b[0m\n",
      "Cell \u001b[0;32mIn[43], line 29\u001b[0m, in \u001b[0;36mprocess_bin_gene_counts.<locals>.<lambda>\u001b[0;34m(x)\u001b[0m\n\u001b[1;32m     20\u001b[0m df \u001b[38;5;241m=\u001b[39m pd\u001b[38;5;241m.\u001b[39mread_csv(\n\u001b[1;32m     21\u001b[0m     bedfile,\n\u001b[1;32m     22\u001b[0m     sep\u001b[38;5;241m=\u001b[39m\u001b[38;5;124m'\u001b[39m\u001b[38;5;130;01m\\t\u001b[39;00m\u001b[38;5;124m'\u001b[39m,\n\u001b[1;32m     23\u001b[0m     header\u001b[38;5;241m=\u001b[39m\u001b[38;5;28;01mNone\u001b[39;00m,\n\u001b[1;32m     24\u001b[0m     names\u001b[38;5;241m=\u001b[39m[\u001b[38;5;124m\"\u001b[39m\u001b[38;5;124mchr\u001b[39m\u001b[38;5;124m\"\u001b[39m, \u001b[38;5;124m\"\u001b[39m\u001b[38;5;124msource\u001b[39m\u001b[38;5;124m\"\u001b[39m, \u001b[38;5;124m\"\u001b[39m\u001b[38;5;124mfeature\u001b[39m\u001b[38;5;124m\"\u001b[39m, \u001b[38;5;124m\"\u001b[39m\u001b[38;5;124mstart\u001b[39m\u001b[38;5;124m\"\u001b[39m, \u001b[38;5;124m\"\u001b[39m\u001b[38;5;124mend\u001b[39m\u001b[38;5;124m\"\u001b[39m, \u001b[38;5;124m\"\u001b[39m\u001b[38;5;124mscore\u001b[39m\u001b[38;5;124m\"\u001b[39m, \u001b[38;5;124m\"\u001b[39m\u001b[38;5;124mstrand\u001b[39m\u001b[38;5;124m\"\u001b[39m, \u001b[38;5;124m\"\u001b[39m\u001b[38;5;124mphase\u001b[39m\u001b[38;5;124m\"\u001b[39m, \u001b[38;5;124m\"\u001b[39m\u001b[38;5;124mattributes\u001b[39m\u001b[38;5;124m\"\u001b[39m, \u001b[38;5;124m\"\u001b[39m\u001b[38;5;124mcount\u001b[39m\u001b[38;5;124m\"\u001b[39m]\n\u001b[1;32m     25\u001b[0m )\n\u001b[1;32m     27\u001b[0m \u001b[38;5;66;03m# Extract gene_id and gene_name from attributes\u001b[39;00m\n\u001b[1;32m     28\u001b[0m df[\u001b[38;5;124m\"\u001b[39m\u001b[38;5;124mgene_id\u001b[39m\u001b[38;5;124m\"\u001b[39m] \u001b[38;5;241m=\u001b[39m df[\u001b[38;5;124m\"\u001b[39m\u001b[38;5;124mattributes\u001b[39m\u001b[38;5;124m\"\u001b[39m]\u001b[38;5;241m.\u001b[39mapply(\n\u001b[0;32m---> 29\u001b[0m     \u001b[38;5;28;01mlambda\u001b[39;00m x: re\u001b[38;5;241m.\u001b[39msearch(\u001b[38;5;124mr\u001b[39m\u001b[38;5;124m\"\u001b[39m\u001b[38;5;124mgene:([^;]+)\u001b[39m\u001b[38;5;124m\"\u001b[39m, x)\u001b[38;5;241m.\u001b[39mgroup(\u001b[38;5;241m1\u001b[39m) \u001b[38;5;28;01mif\u001b[39;00m re\u001b[38;5;241m.\u001b[39msearch(\u001b[38;5;124mr\u001b[39m\u001b[38;5;124m\"\u001b[39m\u001b[38;5;124mgene:([^;]+)\u001b[39m\u001b[38;5;124m\"\u001b[39m, x) \u001b[38;5;28;01melse\u001b[39;00m \u001b[38;5;28;01mNone\u001b[39;00m\n\u001b[1;32m     30\u001b[0m )\n\u001b[1;32m     31\u001b[0m df[\u001b[38;5;124m\"\u001b[39m\u001b[38;5;124mgene_name\u001b[39m\u001b[38;5;124m\"\u001b[39m] \u001b[38;5;241m=\u001b[39m df[\u001b[38;5;124m\"\u001b[39m\u001b[38;5;124mattributes\u001b[39m\u001b[38;5;124m\"\u001b[39m]\u001b[38;5;241m.\u001b[39mapply(\n\u001b[1;32m     32\u001b[0m     \u001b[38;5;28;01mlambda\u001b[39;00m x: re\u001b[38;5;241m.\u001b[39msearch(\u001b[38;5;124mr\u001b[39m\u001b[38;5;124m\"\u001b[39m\u001b[38;5;124mName=([^;]+)\u001b[39m\u001b[38;5;124m\"\u001b[39m, x)\u001b[38;5;241m.\u001b[39mgroup(\u001b[38;5;241m1\u001b[39m) \u001b[38;5;28;01mif\u001b[39;00m re\u001b[38;5;241m.\u001b[39msearch(\u001b[38;5;124mr\u001b[39m\u001b[38;5;124m\"\u001b[39m\u001b[38;5;124mName=([^;]+)\u001b[39m\u001b[38;5;124m\"\u001b[39m, x) \u001b[38;5;28;01melse\u001b[39;00m \u001b[38;5;28;01mNone\u001b[39;00m\n\u001b[1;32m     33\u001b[0m )\n\u001b[1;32m     35\u001b[0m \u001b[38;5;66;03m# Retain only necessary columns\u001b[39;00m\n",
      "File \u001b[0;32m~/anaconda3/lib/python3.12/re/__init__.py:177\u001b[0m, in \u001b[0;36msearch\u001b[0;34m(pattern, string, flags)\u001b[0m\n\u001b[1;32m    174\u001b[0m \u001b[38;5;28;01mdef\u001b[39;00m \u001b[38;5;21msearch\u001b[39m(pattern, string, flags\u001b[38;5;241m=\u001b[39m\u001b[38;5;241m0\u001b[39m):\n\u001b[1;32m    175\u001b[0m \u001b[38;5;250m    \u001b[39m\u001b[38;5;124;03m\"\"\"Scan through string looking for a match to the pattern, returning\u001b[39;00m\n\u001b[1;32m    176\u001b[0m \u001b[38;5;124;03m    a Match object, or None if no match was found.\"\"\"\u001b[39;00m\n\u001b[0;32m--> 177\u001b[0m     \u001b[38;5;28;01mreturn\u001b[39;00m _compile(pattern, flags)\u001b[38;5;241m.\u001b[39msearch(string)\n",
      "\u001b[0;31mTypeError\u001b[0m: expected string or bytes-like object, got 'float'"
     ]
    }
   ],
   "source": [
    "\n",
    "for b in bins:\n",
    "    bin_path = os.path.join(parent, b)\n",
    "    mat = process_bin_gene_counts(bin_path, intersect_folder, dtype)\n",
    "    outname = os.path.join(output_dir, sub_folder, f\"{b}{out_name}\")\n",
    "    mat.to_csv(outname, sep=\"\\t\", index=False)"
   ]
  },
  {
   "cell_type": "code",
   "execution_count": null,
   "id": "4dbc875e-b38d-4cbe-9d5a-e2b00fd27f2c",
   "metadata": {},
   "outputs": [],
   "source": []
  },
  {
   "cell_type": "code",
   "execution_count": 1,
   "id": "fcbce2fd-7192-42d8-9948-7323d7ef2f53",
   "metadata": {},
   "outputs": [],
   "source": [
    "import os\n",
    "import re\n",
    "import pandas as pd\n",
    "from glob import glob\n",
    "\n",
    "def process_bin_gene_counts(bin_dir, intersect_folder):\n",
    "    gene_intersect_dir = os.path.join(bin_dir, \"bedtools_out\", intersect_folder)\n",
    "    \n",
    "    bed_files = glob(os.path.join(gene_intersect_dir, \"*_genesIntersect.bed\"))\n",
    "    df_list = []\n",
    "    \n",
    "    for bedfile in bed_files:\n",
    "        # e.g. \"A14891_125_155_genesIntersect.bed\"\n",
    "        sample_id = os.path.basename(bedfile).replace(\"_genesIntersect.bed\",\"\")  # \"A14891_125_155\"\n",
    "        \n",
    "        # Read the BED file\n",
    "        # By default, pandas will treat # lines as comments if you have them. \n",
    "        # Adjust header=None if no header line in the file.\n",
    "        print(f\"Reading {sample_id}\")\n",
    "        df = pd.read_csv(\n",
    "            bedfile,\n",
    "            sep='\\t',\n",
    "            header=None,\n",
    "            names=[\"chr\",\"source\",\"feature\",\"start\",\"end\",\"score\",\"strand\",\"phase\",\"attributes\",\"count\"]\n",
    "        )\n",
    "        \n",
    "        # Parse gene_id and gene_name from the 'attributes' column\n",
    "        # Look for strings like \"ID=gene:ENSG00000186092;Name=OR4F5;...\"\n",
    "        # We'll capture \"ENSG00000186092\" and \"OR4F5\" with regex\n",
    "        df[\"gene_id\"] = df[\"attributes\"].apply(\n",
    "            lambda x: re.search(r\"gene:([^;]+)\", x).group(1) if re.search(r\"gene:([^;]+)\", x) else None\n",
    "        )\n",
    "        df[\"gene_name\"] = df[\"attributes\"].apply(\n",
    "            lambda x: re.search(r\"Name=([^;]+)\", x).group(1) if re.search(r\"Name=([^;]+)\", x) else None\n",
    "        )\n",
    "        \n",
    "        # Aggregate counts by gene\n",
    "        df_sum = df.groupby([\"gene_id\",\"gene_name\"], as_index=False)[\"count\"].sum()\n",
    "        \n",
    "        # Attach sample info\n",
    "        df_sum[\"sample\"] = sample_id\n",
    "        df_list.append(df_sum)\n",
    "\n",
    "    print(\"Finished reading files\")\n",
    "    print(\"Combining.....\")\n",
    "    # Combine into one long df\n",
    "    combined = pd.concat(df_list, ignore_index=True)\n",
    "    print(\"Finished combining\")\n",
    "    # Pivot to wide format\n",
    "    wide_counts = combined.pivot_table(\n",
    "        index=[\"gene_id\",\"gene_name\"], \n",
    "        columns=\"sample\", \n",
    "        values=\"count\",\n",
    "        fill_value=0\n",
    "    ).reset_index()\n",
    "    \n",
    "    return wide_counts"
   ]
  }
 ],
 "metadata": {
  "kernelspec": {
   "display_name": "Python 3 (ipykernel)",
   "language": "python",
   "name": "python3"
  },
  "language_info": {
   "codemirror_mode": {
    "name": "ipython",
    "version": 3
   },
   "file_extension": ".py",
   "mimetype": "text/x-python",
   "name": "python",
   "nbconvert_exporter": "python",
   "pygments_lexer": "ipython3",
   "version": "3.12.2"
  }
 },
 "nbformat": 4,
 "nbformat_minor": 5
}
