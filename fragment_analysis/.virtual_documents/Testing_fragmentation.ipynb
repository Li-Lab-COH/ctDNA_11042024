import os
import sys
import pysam


# Inputs

anumbers = ["A14891", "A14892"]
input_bam_path = "/Users/janzules/Roselab/ctDNA_11042024/data/testing_binned_analysis/mapped_bam_subset"
output_dir = "/Users/janzules/Roselab/ctDNA_11042024/data/testing_binned_analysis/binned_sequences"
bins=[(40, 150), (125, 155), (150, 180), (170, 220), (220, 345)]


for anumber in anumbers:
    print(anumber)





for b_start, b_end in bins:
    for anumber in 
