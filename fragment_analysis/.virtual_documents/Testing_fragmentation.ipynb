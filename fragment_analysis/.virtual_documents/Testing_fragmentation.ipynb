import os
import sys
import glob
import pysam


anumbers = ["A14891", "A14892"]


# Inputs

anumbers = ["A14891", "A14892", "A14893"]
input_dir = "/Users/janzules/Roselab/ctDNA_11042024/data/testing_binned_analysis/mapped_bam_subset"
output_dir = "/Users/janzules/Roselab/ctDNA_11042024/data/testing_binned_analysis/binned_sequences"
bins=[(40, 150), (125, 155), (150, 180), (170, 220), (220, 345)]


for anumber in anumbers:
    print(anumber)


out_bams = {}
for b_start, b_end in bins:
    bin_label = f"{b_start}_{b_end}"
    out_path = os.path.join(output_dir, f"{os.path.basename(input_bam_path).replace('.bam', '')}_{bin_label}.bam")
    out_bams[(b_start, b_end)] = pysam.AlignmentFile(out_path, "wb", template=in_bam)


for b_start, b_end in bins:
    # Check and create the appropriate folder
    for anumber in anumbers
    
    #extract the sequences


for (b_start, b_end) in bins:
    bin_label = f"{b_start}_{b_end}"
    bin_dir = os.path.join(output_dir, bin_label)
    bam_dir = os.path.join(bin_dir, "bam")
    os.makedirs(bam_dir, exist_ok=True)


for anumber in anumbers:
    # 1) Find the matching BAM file. Adjust the filename patterns below to match your data.
    #    You may have .mapped.bam, _subset.bam, etc.
    pattern = os.path.join(input_dir, f"{anumber}*.bam")  # This is now a string, not a tuple

    matching_files = glob.glob(pattern)  # Directly use glob.glob() without a loop
    
    if len(matching_files) != 1:
        print(f"[WARNING] Expected 1 BAM file for {anumber}, but found {len(matching_files)} in {input_dir}", file=sys.stderr)
        continue  # Skip this A-number if there are 0 or more than 1 matching files

    else:
        print(matching_files)


matching_files


for anumber in anumbers:
    # Find the matching BAM file.

    # String to find match
    pattern = os.path.join(input_dir, f"{anumber}*.bam")
    # searches for files matching a specific pattern in a directory and returns a list of matching file paths.
    input_bam_path = glob.glob(pattern)

    if len(input_bam_path) != 1:
        print(f"[WARNING] Expected 1 BAM file for {anumber}, but found {len(input_bam_path)} in {input_dir}",
              file=sys.stderr)
        continue  # Skip this A-number if there are 0 or more than 1 matching files
    input_bam_path = input_bam_path[0]


input_bam_path


 in_bam = pysam.AlignmentFile(input_bam_path, "rb")


num_reads = in_bam.count()



